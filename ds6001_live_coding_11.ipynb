{
 "cells": [
  {
   "cell_type": "code",
   "execution_count": 0,
   "metadata": {
    "application/vnd.databricks.v1+cell": {
     "cellMetadata": {
      "byteLimit": 2048000,
      "rowLimit": 10000
     },
     "inputWidgets": {},
     "nuid": "7a07e0ce-fee5-4065-b751-0efc2d6170ce",
     "showTitle": false,
     "tableResultSettingsMap": {},
     "title": ""
    }
   },
   "outputs": [],
   "source": [
    "dbutils.library.restartPython() "
   ]
  },
  {
   "cell_type": "code",
   "execution_count": 0,
   "metadata": {
    "application/vnd.databricks.v1+cell": {
     "cellMetadata": {
      "byteLimit": 2048000,
      "rowLimit": 10000
     },
     "inputWidgets": {},
     "nuid": "1d2b0b7b-25b6-4682-b998-faaa6d1f454d",
     "showTitle": false,
     "tableResultSettingsMap": {},
     "title": ""
    }
   },
   "outputs": [],
   "source": [
    "!pip install prince\n",
    "import prince\n",
    "from scipy import stats\n",
    "import os\n",
    "!pip install numpy==1.24.0 --upgrade\n",
    "import numpy as np\n",
    "!pip install ydata_profiling\n",
    "#import numpy as np\n",
    "from ydata_profiling import ProfileReport\n",
    "import pandas as pd\n",
    "\n"
   ]
  },
  {
   "cell_type": "code",
   "execution_count": 0,
   "metadata": {
    "application/vnd.databricks.v1+cell": {
     "cellMetadata": {
      "byteLimit": 2048000,
      "rowLimit": 10000
     },
     "inputWidgets": {},
     "nuid": "c0791505-37f6-43f2-b635-b8ab4d5c12ae",
     "showTitle": false,
     "tableResultSettingsMap": {},
     "title": ""
    }
   },
   "outputs": [],
   "source": [
    " \n",
    "  ahs2023=pd.read_csv('/Workspace/Users/eashan@gmail.com/ahs2023_cleaned.csv')"
   ]
  },
  {
   "cell_type": "code",
   "execution_count": 0,
   "metadata": {
    "application/vnd.databricks.v1+cell": {
     "cellMetadata": {
      "byteLimit": 2048000,
      "rowLimit": 10000
     },
     "inputWidgets": {},
     "nuid": "1df88295-8e03-440d-8438-d1b4290fcaee",
     "showTitle": false,
     "tableResultSettingsMap": {},
     "title": ""
    }
   },
   "outputs": [],
   "source": [
    "ahs2023.head(3)\n",
    "#type(ahs2023.dtypes)"
   ]
  },
  {
   "cell_type": "code",
   "execution_count": 0,
   "metadata": {
    "application/vnd.databricks.v1+cell": {
     "cellMetadata": {
      "byteLimit": 2048000,
      "rowLimit": 10000
     },
     "inputWidgets": {},
     "nuid": "a524b1aa-8045-42f3-8f90-3344c189ef3f",
     "showTitle": false,
     "tableResultSettingsMap": {},
     "title": ""
    }
   },
   "outputs": [],
   "source": [
    "for col in ahs2023:\n",
    "    if ahs2023[col].dtype in ['object','string']:\n",
    "       ahs2023[col] = ahs2023[col].astype('category')\n",
    "ahs2023.dtypes"
   ]
  },
  {
   "cell_type": "code",
   "execution_count": 0,
   "metadata": {
    "application/vnd.databricks.v1+cell": {
     "cellMetadata": {
      "byteLimit": 2048000,
      "rowLimit": 10000
     },
     "inputWidgets": {},
     "nuid": "9f1d57a7-dff7-4ff9-a474-b853abe5fdc9",
     "showTitle": false,
     "tableResultSettingsMap": {},
     "title": ""
    }
   },
   "outputs": [],
   "source": [
    "profile = ProfileReport(\n",
    "        ahs2023, \n",
    "        title = '2023 American Housing Survey',\n",
    "        html = {'style':{'full_width':True}},\n",
    "        minimal = False        \n",
    "        )\n",
    "profile.to_notebook_iframe()\n"
   ]
  },
  {
   "cell_type": "code",
   "execution_count": 0,
   "metadata": {
    "application/vnd.databricks.v1+cell": {
     "cellMetadata": {
      "byteLimit": 2048000,
      "rowLimit": 10000
     },
     "inputWidgets": {},
     "nuid": "db6eb980-244c-431a-8d56-2369f8917da0",
     "showTitle": false,
     "tableResultSettingsMap": {},
     "title": ""
    }
   },
   "outputs": [],
   "source": [
    "ahs2023['TENURE'].value_counts() "
   ]
  },
  {
   "cell_type": "code",
   "execution_count": 0,
   "metadata": {
    "application/vnd.databricks.v1+cell": {
     "cellMetadata": {
      "byteLimit": 2048000,
      "rowLimit": 10000
     },
     "inputWidgets": {},
     "nuid": "b2e4dcb7-27f0-498b-bc8d-c2d4480cc9c7",
     "showTitle": false,
     "tableResultSettingsMap": {},
     "title": ""
    }
   },
   "outputs": [],
   "source": [
    "ahs2023.groupby('TENURE').agg({'HINCP':['mean','count']},)"
   ]
  },
  {
   "cell_type": "code",
   "execution_count": 0,
   "metadata": {
    "application/vnd.databricks.v1+cell": {
     "cellMetadata": {
      "byteLimit": 2048000,
      "rowLimit": 10000
     },
     "inputWidgets": {},
     "nuid": "9dbae912-818d-4995-a420-69c2b49ccfde",
     "showTitle": false,
     "tableResultSettingsMap": {},
     "title": ""
    }
   },
   "outputs": [],
   "source": [
    "stats.f_oneway(\n",
    "        ahs2023.query(\"TENURE=='Owned or being bought by someone in your household'\")['HINCP'],\n",
    "        ahs2023.query(\"TENURE=='Rented'\")['HINCP'] ,\n",
    "        ahs2023.query(\"TENURE=='Occupied without payment of rent'\")['HINCP'])"
   ]
  },
  {
   "cell_type": "code",
   "execution_count": 0,
   "metadata": {
    "application/vnd.databricks.v1+cell": {
     "cellMetadata": {
      "byteLimit": 2048000,
      "rowLimit": 10000
     },
     "inputWidgets": {},
     "nuid": "fd917f4b-2422-48d9-b79f-1b18922a79d2",
     "showTitle": false,
     "tableResultSettingsMap": {},
     "title": ""
    }
   },
   "outputs": [],
   "source": [
    "ahs2023_for_pearsons_r = ahs2023[['MARKETVAL','YRBUILT']].dropna()\n",
    "ahs2023_for_pearsons_r.corr()\n",
    "#"
   ]
  },
  {
   "cell_type": "code",
   "execution_count": 0,
   "metadata": {
    "application/vnd.databricks.v1+cell": {
     "cellMetadata": {
      "byteLimit": 2048000,
      "rowLimit": 10000
     },
     "inputWidgets": {},
     "nuid": "c137ed05-1c22-4a03-b60e-58eb4ce953ab",
     "showTitle": false,
     "tableResultSettingsMap": {},
     "title": ""
    }
   },
   "outputs": [],
   "source": [
    "stats.pearsonr(ahs2023_for_pearsons_r['MARKETVAL'],ahs2023_for_pearsons_r['YRBUILT'])"
   ]
  },
  {
   "cell_type": "code",
   "execution_count": 0,
   "metadata": {
    "application/vnd.databricks.v1+cell": {
     "cellMetadata": {
      "byteLimit": 2048000,
      "rowLimit": 10000
     },
     "inputWidgets": {},
     "nuid": "f065b451-d525-4c73-b270-5f566336d7f9",
     "showTitle": false,
     "tableResultSettingsMap": {},
     "title": ""
    }
   },
   "outputs": [],
   "source": [
    "brokeness = ahs2023[['FNDCRUMB','PAINTPEEL','ROOFHOLE','ROOFSAG','ROOFSHIN','WALLCRACK','WALLSIDE','WALLSLOPE','WINBOARD','WINBROKE','LEAKI','MOLDBATH']].dropna()\n",
    "brokeness.describe()\n",
    "#brokeness['FUSEBLOW'].value_counts()\n",
    "#brokeness['SEWBREAK'].value_counts()\n",
    "#brokeness['ROACH'].value_counts()\n",
    "#brokeness['RODENT'].value_counts()\n",
    "#brokeness['NOWIRE'].value_counts()"
   ]
  },
  {
   "cell_type": "code",
   "execution_count": 0,
   "metadata": {
    "application/vnd.databricks.v1+cell": {
     "cellMetadata": {
      "byteLimit": 2048000,
      "rowLimit": 10000
     },
     "inputWidgets": {},
     "nuid": "365e8f1f-c4fe-4f93-ac41-0860327db66a",
     "showTitle": false,
     "tableResultSettingsMap": {},
     "title": ""
    }
   },
   "outputs": [],
   "source": [
    "#didnt want to sink too much time into debugging the below\n",
    "brokeness.dropna(inplace=True)\n",
    "brokeness"
   ]
  },
  {
   "cell_type": "code",
   "execution_count": 0,
   "metadata": {
    "application/vnd.databricks.v1+cell": {
     "cellMetadata": {
      "byteLimit": 2048000,
      "rowLimit": 10000
     },
     "inputWidgets": {},
     "nuid": "2bad3f25-bdd3-4395-815a-620171fa0a01",
     "showTitle": false,
     "tableResultSettingsMap": {},
     "title": ""
    }
   },
   "outputs": [],
   "source": [
    "mca = prince.MCA(n_components=2)\n",
    "MCA=mca.fit(brokeness.replace([np.inf, -np.inf], np.nan).dropna())"
   ]
  },
  {
   "cell_type": "code",
   "execution_count": 0,
   "metadata": {
    "application/vnd.databricks.v1+cell": {
     "cellMetadata": {
      "byteLimit": 2048000,
      "rowLimit": 10000
     },
     "inputWidgets": {},
     "nuid": "08fcb58a-1781-497e-bb23-4bb011226b06",
     "showTitle": false,
     "tableResultSettingsMap": {},
     "title": ""
    }
   },
   "outputs": [],
   "source": [
    "MCA.column_coordinates(brokeness).sort_values(by=0,ascending=False).values[0]"
   ]
  },
  {
   "cell_type": "code",
   "execution_count": 0,
   "metadata": {
    "application/vnd.databricks.v1+cell": {
     "cellMetadata": {
      "byteLimit": 2048000,
      "rowLimit": 10000
     },
     "inputWidgets": {},
     "nuid": "88edaa79-472a-4bc1-9ef5-7175fd7ef4c3",
     "showTitle": false,
     "tableResultSettingsMap": {},
     "title": ""
    }
   },
   "outputs": [],
   "source": [
    "broken_index = MCA.row_coordinates(brokeness).sort_values(by=0,ascending=False)\n",
    "broken_index = broken_index.rename({0:'house_condition',\n",
    "                                   1:'other_index'},axis=1)"
   ]
  },
  {
   "cell_type": "code",
   "execution_count": 0,
   "metadata": {
    "application/vnd.databricks.v1+cell": {
     "cellMetadata": {
      "byteLimit": 2048000,
      "rowLimit": 10000
     },
     "inputWidgets": {},
     "nuid": "2dba5245-3897-419e-b7dd-fd4290db1f07",
     "showTitle": false,
     "tableResultSettingsMap": {},
     "title": ""
    }
   },
   "outputs": [],
   "source": [
    "ahs_broken =  pd.merge(ahs2023,broken_index,how='outer', validate='one_to_one', indicator='matched', left_index=True, right_index=True\n",
    ") "
   ]
  },
  {
   "cell_type": "code",
   "execution_count": 0,
   "metadata": {
    "application/vnd.databricks.v1+cell": {
     "cellMetadata": {
      "byteLimit": 2048000,
      "rowLimit": 10000
     },
     "inputWidgets": {},
     "nuid": "7aedb032-33e8-4533-9354-7f36d5ca55ce",
     "showTitle": false,
     "tableResultSettingsMap": {},
     "title": ""
    }
   },
   "outputs": [],
   "source": [
    "ahs2023"
   ]
  },
  {
   "cell_type": "code",
   "execution_count": 0,
   "metadata": {
    "application/vnd.databricks.v1+cell": {
     "cellMetadata": {
      "byteLimit": 2048000,
      "rowLimit": 10000
     },
     "inputWidgets": {},
     "nuid": "e536ad33-aa32-40e5-a8b1-592ee07ccd69",
     "showTitle": false,
     "tableResultSettingsMap": {},
     "title": ""
    }
   },
   "outputs": [],
   "source": [
    "from matplotlib import pyplot as plt\n",
    "import seaborn as sns\n",
    "%matplotlib inline\n"
   ]
  },
  {
   "cell_type": "code",
   "execution_count": 0,
   "metadata": {
    "application/vnd.databricks.v1+cell": {
     "cellMetadata": {
      "byteLimit": 2048000,
      "rowLimit": 10000
     },
     "inputWidgets": {},
     "nuid": "516679cc-1543-487a-9a3e-fcb40401e2f2",
     "showTitle": false,
     "tableResultSettingsMap": {},
     "title": ""
    }
   },
   "outputs": [],
   "source": [
    "fig = sns.histplot(data=ahs_broken['HINCP'])\n",
    "import matplotlib.pyplot as plt; plt.show()"
   ]
  },
  {
   "cell_type": "code",
   "execution_count": 0,
   "metadata": {
    "application/vnd.databricks.v1+cell": {
     "cellMetadata": {
      "byteLimit": 2048000,
      "rowLimit": 10000
     },
     "inputWidgets": {},
     "nuid": "a2bf7d77-151d-4c91-ae11-4afb5ab8ebaa",
     "showTitle": false,
     "tableResultSettingsMap": {},
     "title": ""
    }
   },
   "outputs": [],
   "source": [
    "fig, ax = plt.subplots(figsize=(10, 4))\n",
    "\n",
    "sns.histplot(ahs_broken['HINCP'], bins=100, ax=ax)\n",
    "ax.set_xscale('log')\n",
    "plt.xlabel('Household Income')\n",
    "plt.title('Distribution of Household Income')\n",
    "plt.show()"
   ]
  },
  {
   "cell_type": "code",
   "execution_count": 0,
   "metadata": {
    "application/vnd.databricks.v1+cell": {
     "cellMetadata": {
      "byteLimit": 2048000,
      "rowLimit": 10000
     },
     "inputWidgets": {},
     "nuid": "b213ff18-af32-46a3-a003-5c6e15583929",
     "showTitle": false,
     "tableResultSettingsMap": {},
     "title": ""
    }
   },
   "outputs": [],
   "source": [
    "ahs_tenure = ahs2023.groupby('TENURE').size().reset_index()\n",
    "ahs_tenure = ahs_tenure.rename({0:'count'},axis=1) \n",
    "sns.barplot(data=ahs_tenure\n",
    "            ,x=ahs_tenure['TENURE'],y=ahs_tenure['count'])\n",
    "plt.show()"
   ]
  },
  {
   "cell_type": "code",
   "execution_count": 0,
   "metadata": {
    "application/vnd.databricks.v1+cell": {
     "cellMetadata": {
      "byteLimit": 2048000,
      "rowLimit": 10000
     },
     "inputWidgets": {},
     "nuid": "fb3009fa-992a-4f7b-92c5-52c41640dc3e",
     "showTitle": false,
     "tableResultSettingsMap": {},
     "title": ""
    }
   },
   "outputs": [],
   "source": [
    "ahs_broken['house_condition']\n",
    "sns.scatterplot(x=\n",
    "                'house_condition',y='MARKETVAL', data=ahs_broken)\n",
    "plt.show()"
   ]
  },
  {
   "cell_type": "code",
   "execution_count": 0,
   "metadata": {
    "application/vnd.databricks.v1+cell": {
     "cellMetadata": {
      "byteLimit": 2048000,
      "rowLimit": 10000
     },
     "inputWidgets": {},
     "nuid": "72164a90-968a-4e23-8051-b8bac683bfcd",
     "showTitle": false,
     "tableResultSettingsMap": {},
     "title": ""
    }
   },
   "outputs": [],
   "source": [
    "ahs_time = ahs_broken.groupby('YRBUILT').agg({'MARKETVAL':'mean','house_condition':'mean'})\n",
    "sns.lineplot(x='YRBUILT',y='MARKETVAL',data=ahs_time)"
   ]
  },
  {
   "cell_type": "code",
   "execution_count": 0,
   "metadata": {
    "application/vnd.databricks.v1+cell": {
     "cellMetadata": {
      "byteLimit": 2048000,
      "rowLimit": 10000
     },
     "inputWidgets": {},
     "nuid": "ba2d01be-efee-4447-ba66-c7e898682ac7",
     "showTitle": false,
     "tableResultSettingsMap": {},
     "title": ""
    }
   },
   "outputs": [],
   "source": [
    "ahs_facet = ahs_broken.groupby(['TENURE','DIVISION']).agg({'HINCP':'mean'}).reset_index()\n",
    "\n",
    "g = sns.FacetGrid(ahs_facet, col = 'DIVISION', hue = \n",
    "'DIVISION',col_wrap=3)\n",
    "g.map(sns.barplot, 'TENURE', 'HINCP')"
   ]
  },
  {
   "cell_type": "code",
   "execution_count": 0,
   "metadata": {
    "application/vnd.databricks.v1+cell": {
     "cellMetadata": {},
     "inputWidgets": {},
     "nuid": "ddad26b4-5d20-4a24-8c09-5909fefd42ee",
     "showTitle": false,
     "tableResultSettingsMap": {},
     "title": ""
    }
   },
   "outputs": [],
   "source": []
  }
 ],
 "metadata": {
  "application/vnd.databricks.v1+notebook": {
   "computePreferences": null,
   "dashboards": [],
   "environmentMetadata": {
    "base_environment": "",
    "environment_version": "2"
   },
   "inputWidgetPreferences": null,
   "language": "python",
   "notebookMetadata": {
    "pythonIndentUnit": 4
   },
   "notebookName": "ds6001_live_coding_11",
   "widgets": {}
  },
  "language_info": {
   "name": "python"
  }
 },
 "nbformat": 4,
 "nbformat_minor": 0
}