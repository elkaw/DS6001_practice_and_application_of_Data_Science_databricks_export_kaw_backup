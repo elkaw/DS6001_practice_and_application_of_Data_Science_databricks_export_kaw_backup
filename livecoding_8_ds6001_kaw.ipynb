{
 "cells": [
  {
   "cell_type": "markdown",
   "metadata": {
    "application/vnd.databricks.v1+cell": {
     "cellMetadata": {
      "byteLimit": 2048000,
      "rowLimit": 10000
     },
     "inputWidgets": {},
     "nuid": "e732ed69-b0b7-4a70-a682-bf756c8ea19d",
     "showTitle": false,
     "tableResultSettingsMap": {},
     "title": ""
    }
   },
   "source": []
  },
  {
   "cell_type": "code",
   "execution_count": 0,
   "metadata": {
    "application/vnd.databricks.v1+cell": {
     "cellMetadata": {
      "byteLimit": 2048000,
      "rowLimit": 10000
     },
     "inputWidgets": {},
     "nuid": "8d34d3f6-e102-4be4-9d5c-14f08d266b6a",
     "showTitle": false,
     "tableResultSettingsMap": {},
     "title": ""
    }
   },
   "outputs": [],
   "source": [
    "import numpy as np\n",
    "import pandas as pd"
   ]
  },
  {
   "cell_type": "code",
   "execution_count": 0,
   "metadata": {
    "application/vnd.databricks.v1+cell": {
     "cellMetadata": {
      "byteLimit": 2048000,
      "rowLimit": 10000
     },
     "inputWidgets": {},
     "nuid": "997c0c20-996b-45c5-9f6e-713ced8d1038",
     "showTitle": false,
     "tableResultSettingsMap": {},
     "title": ""
    }
   },
   "outputs": [],
   "source": [
    "!pwd"
   ]
  },
  {
   "cell_type": "code",
   "execution_count": 0,
   "metadata": {
    "application/vnd.databricks.v1+cell": {
     "cellMetadata": {
      "byteLimit": 2048000,
      "rowLimit": 10000
     },
     "inputWidgets": {},
     "nuid": "24455531-bd05-4356-ba97-f23fc03b1249",
     "showTitle": false,
     "tableResultSettingsMap": {},
     "title": ""
    }
   },
   "outputs": [],
   "source": [
    "cases=pd.read_csv('/Workspace/Users/eashan@gmail.com/data1k.csv')"
   ]
  },
  {
   "cell_type": "code",
   "execution_count": 0,
   "metadata": {
    "application/vnd.databricks.v1+cell": {
     "cellMetadata": {
      "byteLimit": 2048000,
      "rowLimit": 10000
     },
     "inputWidgets": {},
     "nuid": "2bd9a54a-8be3-4fd4-856b-222c82befbfa",
     "showTitle": false,
     "tableResultSettingsMap": {},
     "title": ""
    }
   },
   "outputs": [],
   "source": [
    "cases['CodeSection'].value_counts()"
   ]
  },
  {
   "cell_type": "code",
   "execution_count": 0,
   "metadata": {
    "application/vnd.databricks.v1+cell": {
     "cellMetadata": {
      "byteLimit": 2048000,
      "rowLimit": 10000
     },
     "inputWidgets": {},
     "nuid": "9e97a156-228b-4c60-b177-d8b5140fe396",
     "showTitle": false,
     "tableResultSettingsMap": {},
     "title": ""
    }
   },
   "outputs": [],
   "source": [
    "cases['DispositionCode'].value_counts()"
   ]
  },
  {
   "cell_type": "code",
   "execution_count": 0,
   "metadata": {
    "application/vnd.databricks.v1+cell": {
     "cellMetadata": {
      "byteLimit": 2048000,
      "rowLimit": 10000
     },
     "inputWidgets": {},
     "nuid": "756cc6f9-8ffd-46a6-afc4-8d613f62eabf",
     "showTitle": false,
     "tableResultSettingsMap": {},
     "title": ""
    }
   },
   "outputs": [],
   "source": [
    "cases['convictions']= [x in ['Guilty','Guilty In Absentia'] for x in cases['DispositionCode']]"
   ]
  },
  {
   "cell_type": "code",
   "execution_count": 0,
   "metadata": {
    "application/vnd.databricks.v1+cell": {
     "cellMetadata": {
      "byteLimit": 2048000,
      "rowLimit": 10000
     },
     "inputWidgets": {},
     "nuid": "e3a57c9c-5d47-47e4-a32f-8a671d6edac8",
     "showTitle": false,
     "tableResultSettingsMap": {},
     "title": ""
    }
   },
   "outputs": [],
   "source": [
    "#if x \n",
    "cases.head(3).T"
   ]
  },
  {
   "cell_type": "code",
   "execution_count": 0,
   "metadata": {
    "application/vnd.databricks.v1+cell": {
     "cellMetadata": {
      "byteLimit": 2048000,
      "rowLimit": 10000
     },
     "inputWidgets": {},
     "nuid": "5ecb0946-2675-4b7e-a86e-38eb7e0750f9",
     "showTitle": false,
     "tableResultSettingsMap": {},
     "title": ""
    }
   },
   "outputs": [],
   "source": [
    "#highest conviction rates\n",
    "#note that I used the smaller dataset (1k, not 100K)\n",
    "cases.groupby('CodeSection').agg({'convictions':[\"count\",\"mean\"]}).sort_values(by=('convictions','mean') ,ascending=False)"
   ]
  },
  {
   "cell_type": "code",
   "execution_count": 0,
   "metadata": {
    "application/vnd.databricks.v1+cell": {
     "cellMetadata": {
      "byteLimit": 2048000,
      "rowLimit": 10000
     },
     "collapsed": true,
     "inputWidgets": {},
     "nuid": "879db2e9-eaeb-4aea-8370-36b58feda62b",
     "showTitle": false,
     "tableResultSettingsMap": {},
     "title": ""
    },
    "jupyter": {
     "source_hidden": true
    }
   },
   "outputs": [],
   "source": []
  },
  {
   "cell_type": "code",
   "execution_count": 0,
   "metadata": {
    "application/vnd.databricks.v1+cell": {
     "cellMetadata": {
      "byteLimit": 2048000,
      "rowLimit": 10000
     },
     "inputWidgets": {},
     "nuid": "b3679efe-e7e2-495e-9dda-c509d0856d2d",
     "showTitle": false,
     "tableResultSettingsMap": {},
     "title": ""
    }
   },
   "outputs": [],
   "source": [
    "conviction_rate = cases.groupby('CodeSection').agg({'convictions':[\"count\",\"mean\"]}).sort_values(by=('convictions','mean') ,ascending=False).reset_index()\n",
    "conviction_rate.columns = ['count','conviction_rate_cnt','conviction_rate_mean']\n",
    "conviction_rate.head(10)"
   ]
  },
  {
   "cell_type": "code",
   "execution_count": 0,
   "metadata": {
    "application/vnd.databricks.v1+cell": {
     "cellMetadata": {
      "byteLimit": 2048000,
      "rowLimit": 10000
     },
     "inputWidgets": {},
     "nuid": "e21bddf3-5a6e-4a61-b1a7-4cd550464451",
     "showTitle": false,
     "tableResultSettingsMap": {},
     "title": ""
    }
   },
   "outputs": [],
   "source": [
    "cases['Race'].value_counts()"
   ]
  },
  {
   "cell_type": "code",
   "execution_count": 0,
   "metadata": {
    "application/vnd.databricks.v1+cell": {
     "cellMetadata": {
      "byteLimit": 2048000,
      "rowLimit": 10000
     },
     "inputWidgets": {},
     "nuid": "8b52ccaa-91d8-476d-8d38-1b8e39ea137f",
     "showTitle": false,
     "tableResultSettingsMap": {},
     "title": ""
    }
   },
   "outputs": [],
   "source": [
    "replace_map = {\n",
    "\"White Caucasian(Non-Hispanic)\"                  :\"White\",\n",
    "\"Black(Non-Hispanic)\"                             :\"Black\",\n",
    "\"White Caucasian (Non-Hispanic)\"                  :\"White\",\n",
    "\"Black (Non-Hispanic)\"                            :\"Black\",\n",
    "\"Hispanic\"                                         :\"Hispanic\",\n",
    "\"Asian Or Pacific Islander\"                        :\"Asian\",\n",
    "\"Other(Includes Not Applicable.. Unknown)\"         :\"Other or Unknown\",\n",
    "\"White\"                                            :\"White\",\n",
    "\"Unknown (Includes Not Applicable.. Unknown)\"      :\"Unknown\",\n",
    "\"MISSING\"                                          : \"Other or Unknown\",\n",
    "\"Black\"                                            :\"Black\",\n",
    "\"Other (Includes Not Applicable.. Unknown)\"         :\"Other or Unknown\",\n",
    "\"American Indian\"                                   :\"American\"\n",
    "}\n",
    "cases['Race'] = cases['Race'].replace(replace_map)\n",
    "cases['Race'].value_counts()"
   ]
  },
  {
   "cell_type": "code",
   "execution_count": 0,
   "metadata": {
    "application/vnd.databricks.v1+cell": {
     "cellMetadata": {
      "byteLimit": 2048000,
      "rowLimit": 10000
     },
     "inputWidgets": {},
     "nuid": "0edd3b45-a8b0-49a5-afa5-9a73e07be2ea",
     "showTitle": false,
     "tableResultSettingsMap": {},
     "title": ""
    }
   },
   "outputs": [],
   "source": [
    "cases.groupby(['Race']).agg({'convictions':[\"count\",\"mean\"]})"
   ]
  },
  {
   "cell_type": "code",
   "execution_count": 0,
   "metadata": {
    "application/vnd.databricks.v1+cell": {
     "cellMetadata": {
      "byteLimit": 2048000,
      "rowLimit": 10000
     },
     "inputWidgets": {},
     "nuid": "a7c54dfc-26d9-47cf-8f94-dfb3669382e5",
     "showTitle": false,
     "tableResultSettingsMap": {},
     "title": ""
    }
   },
   "outputs": [],
   "source": [
    "cases.groupby(['Race','CodeSection']).agg({'convictions':[\"count\",\"mean\"]})"
   ]
  },
  {
   "cell_type": "code",
   "execution_count": 0,
   "metadata": {
    "application/vnd.databricks.v1+cell": {
     "cellMetadata": {
      "byteLimit": 2048000,
      "rowLimit": 10000
     },
     "inputWidgets": {},
     "nuid": "9ec8eede-84ac-4be7-99ae-88e36424c6be",
     "showTitle": false,
     "tableResultSettingsMap": {},
     "title": ""
    }
   },
   "outputs": [],
   "source": [
    "convict_rate_wide = cases.groupby(['Race','CodeSection']).agg({'convictions':[\"count\",\"mean\"]}).reset_index()\n",
    "convict_rate_wide.columns = ['Race','CodeSection','ConvictionCount', \"ConvictionRate\"]\n",
    "convict_rate_wide.pivot('CodeSection', columns='Race', values=['ConvictionRate','ConvictionCount'])"
   ]
  },
  {
   "cell_type": "code",
   "execution_count": 0,
   "metadata": {
    "application/vnd.databricks.v1+cell": {
     "cellMetadata": {},
     "inputWidgets": {},
     "nuid": "6a40c112-319c-426f-a965-535831ca039f",
     "showTitle": false,
     "tableResultSettingsMap": {},
     "title": ""
    }
   },
   "outputs": [],
   "source": []
  }
 ],
 "metadata": {
  "application/vnd.databricks.v1+notebook": {
   "computePreferences": null,
   "dashboards": [],
   "environmentMetadata": {
    "base_environment": "",
    "environment_version": "2"
   },
   "inputWidgetPreferences": null,
   "language": "python",
   "notebookMetadata": {
    "pythonIndentUnit": 4
   },
   "notebookName": "livecoding_8_ds6001_kaw",
   "widgets": {}
  },
  "language_info": {
   "name": "python"
  }
 },
 "nbformat": 4,
 "nbformat_minor": 0
}