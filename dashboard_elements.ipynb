{
 "cells": [
  {
   "cell_type": "markdown",
   "metadata": {
    "application/vnd.databricks.v1+cell": {
     "cellMetadata": {},
     "inputWidgets": {},
     "nuid": "876dee3c-4c1b-468c-9922-15735aadcaaa",
     "showTitle": false,
     "tableResultSettingsMap": {},
     "title": ""
    }
   },
   "source": [
    "## Constructing the COVID dashboard elements"
   ]
  },
  {
   "cell_type": "code",
   "execution_count": 0,
   "metadata": {
    "application/vnd.databricks.v1+cell": {
     "cellMetadata": {},
     "inputWidgets": {},
     "nuid": "379e4aa0-bd82-4b22-851d-185b4fcd1649",
     "showTitle": false,
     "tableResultSettingsMap": {},
     "title": ""
    }
   },
   "outputs": [],
   "source": [
    "import numpy as np\n",
    "import pandas as pd\n",
    "import requests\n",
    "import json\n",
    "import plotly.express as px\n",
    "import dash\n",
    "from datetime import timedelta"
   ]
  },
  {
   "cell_type": "markdown",
   "metadata": {
    "application/vnd.databricks.v1+cell": {
     "cellMetadata": {},
     "inputWidgets": {},
     "nuid": "f3cc3ed1-7748-4848-8c0a-f08d103a8a60",
     "showTitle": false,
     "tableResultSettingsMap": {},
     "title": ""
    }
   },
   "source": [
    "### Pull latest data from VDH"
   ]
  },
  {
   "cell_type": "code",
   "execution_count": 0,
   "metadata": {
    "application/vnd.databricks.v1+cell": {
     "cellMetadata": {},
     "inputWidgets": {},
     "nuid": "a46367f2-a2c8-4628-bb8a-1a170a042066",
     "showTitle": false,
     "tableResultSettingsMap": {},
     "title": ""
    }
   },
   "outputs": [],
   "source": [
    "endpoint = 'https://data.virginia.gov/resource/bre9-aqqr.json'\n",
    "mypars = {'$limit': 150000}\n",
    "headers = {'User-agent': 'Mozilla/5.0 (Macintosh; Intel Mac OS X 10.15; rv:99.0) Gecko/20100101 Firefox/99.0'}\n",
    "r = requests.get(endpoint, params=mypars, headers=headers)\n",
    "r"
   ]
  },
  {
   "cell_type": "code",
   "execution_count": 0,
   "metadata": {
    "application/vnd.databricks.v1+cell": {
     "cellMetadata": {},
     "inputWidgets": {},
     "nuid": "14835cca-dc45-47a0-b4b2-a253867c07d1",
     "showTitle": false,
     "tableResultSettingsMap": {},
     "title": ""
    }
   },
   "outputs": [],
   "source": [
    "cases = pd.json_normalize(json.loads(r.text))\n",
    "cases"
   ]
  },
  {
   "cell_type": "markdown",
   "metadata": {
    "application/vnd.databricks.v1+cell": {
     "cellMetadata": {},
     "inputWidgets": {},
     "nuid": "6e843e42-59d3-4c77-9cd1-bf7678c4f814",
     "showTitle": false,
     "tableResultSettingsMap": {},
     "title": ""
    }
   },
   "source": [
    "### Overall data cleaning"
   ]
  },
  {
   "cell_type": "code",
   "execution_count": 0,
   "metadata": {
    "application/vnd.databricks.v1+cell": {
     "cellMetadata": {},
     "inputWidgets": {},
     "nuid": "e4740816-44cd-47f7-b91e-b5d6598f363f",
     "showTitle": false,
     "tableResultSettingsMap": {},
     "title": ""
    }
   },
   "outputs": [],
   "source": [
    "cases['report_date'] = pd.to_datetime(cases['report_date'])\n",
    "cases['total_cases'] = cases['total_cases'].astype('int')\n",
    "cases['hospitalizations'] = cases['hospitalizations'].astype('int')\n",
    "cases['deaths'] = cases['deaths'].astype('int')\n",
    "cases_today = cases.loc[cases['report_date'] == max(cases['report_date'])]"
   ]
  },
  {
   "cell_type": "markdown",
   "metadata": {
    "application/vnd.databricks.v1+cell": {
     "cellMetadata": {},
     "inputWidgets": {},
     "nuid": "11b66f8c-28c9-42f0-b9fb-bfe3c0412364",
     "showTitle": false,
     "tableResultSettingsMap": {},
     "title": ""
    }
   },
   "source": [
    "### Creation of per-capita dataset"
   ]
  },
  {
   "cell_type": "code",
   "execution_count": 0,
   "metadata": {
    "application/vnd.databricks.v1+cell": {
     "cellMetadata": {},
     "inputWidgets": {},
     "nuid": "b120d3cc-6956-4f66-9cdf-d4c82b5c2f12",
     "showTitle": false,
     "tableResultSettingsMap": {},
     "title": ""
    }
   },
   "outputs": [],
   "source": [
    "url = \"https://demographics.coopercenter.org/sites/demographics/files/media/files/2020-07/Census_2019_RaceEstimates_forVA_0.xls\"\n",
    "pop = pd.read_excel(url, skiprows=4)\n",
    "pop = pop.loc[~pop['FIPS'].isna()]\n",
    "pop['FIPS'] = pop['FIPS'] + 51000\n",
    "pop['FIPS'] = pop['FIPS'].astype('int').astype('str')\n",
    "pop = pop[['FIPS', 'Total Population']]\n",
    "pop"
   ]
  },
  {
   "cell_type": "code",
   "execution_count": 0,
   "metadata": {
    "application/vnd.databricks.v1+cell": {
     "cellMetadata": {},
     "inputWidgets": {},
     "nuid": "03b472a6-6be9-4bc0-a12a-2914d1763877",
     "showTitle": false,
     "tableResultSettingsMap": {},
     "title": ""
    }
   },
   "outputs": [],
   "source": [
    "cases_pop = pd.merge(cases_today, pop, \n",
    "                    left_on = ['fips'],\n",
    "                    right_on = ['FIPS'],\n",
    "                    how = 'inner')"
   ]
  },
  {
   "cell_type": "code",
   "execution_count": 0,
   "metadata": {
    "application/vnd.databricks.v1+cell": {
     "cellMetadata": {},
     "inputWidgets": {},
     "nuid": "edd622d1-be49-4d00-9914-8a5ca45231ca",
     "showTitle": false,
     "tableResultSettingsMap": {},
     "title": ""
    }
   },
   "outputs": [],
   "source": [
    "cases_pop['Cases per 1000 people'] = round(1000*cases_pop['total_cases']/cases_pop['Total Population'],1)\n",
    "cases_pop['Hospitalizations per 1000 people'] = round(1000*cases_pop['hospitalizations']/cases_pop['Total Population'],1)\n",
    "cases_pop['Deaths per 1000 people'] = round(1000*cases_pop['deaths']/cases_pop['Total Population'],1)"
   ]
  },
  {
   "cell_type": "markdown",
   "metadata": {
    "application/vnd.databricks.v1+cell": {
     "cellMetadata": {},
     "inputWidgets": {},
     "nuid": "cb3ec90a-5488-4f35-be84-0fc306374806",
     "showTitle": false,
     "tableResultSettingsMap": {},
     "title": ""
    }
   },
   "source": [
    "### Choropleth map and table"
   ]
  },
  {
   "cell_type": "code",
   "execution_count": 0,
   "metadata": {
    "application/vnd.databricks.v1+cell": {
     "cellMetadata": {},
     "inputWidgets": {},
     "nuid": "f57e7fac-d2bb-4ab5-bb75-2348f9baeae1",
     "showTitle": false,
     "tableResultSettingsMap": {},
     "title": ""
    }
   },
   "outputs": [],
   "source": [
    "r = requests.get('https://raw.githubusercontent.com/plotly/datasets/master/geojson-counties-fips.json')\n",
    "counties = json.loads(r.text)"
   ]
  },
  {
   "cell_type": "code",
   "execution_count": 0,
   "metadata": {
    "application/vnd.databricks.v1+cell": {
     "cellMetadata": {},
     "inputWidgets": {},
     "nuid": "d3cc43f3-dedb-4995-81d1-0c04aed54aa3",
     "showTitle": false,
     "tableResultSettingsMap": {},
     "title": ""
    }
   },
   "outputs": [],
   "source": [
    "fig = px.choropleth(cases_pop, geojson=counties, locations='fips', \n",
    "                    color='Cases per 1000 people',\n",
    "                    color_continuous_scale=\"Viridis\",\n",
    "                    scope=\"usa\",\n",
    "                    labels={'total_cases':'Cases per 1000 people'},\n",
    "                    hover_name = 'locality'\n",
    "                   )\n",
    "fig.update_geos(fitbounds=\"locations\")\n",
    "fig.update_layout(margin={\"r\":0,\"t\":0,\"l\":0,\"b\":0})\n",
    "fig.show()"
   ]
  },
  {
   "cell_type": "code",
   "execution_count": 0,
   "metadata": {
    "application/vnd.databricks.v1+cell": {
     "cellMetadata": {},
     "inputWidgets": {},
     "nuid": "984cce0c-ce6c-4cfc-aad8-14315df13ac9",
     "showTitle": false,
     "tableResultSettingsMap": {},
     "title": ""
    }
   },
   "outputs": [],
   "source": [
    "cases_table = cases_pop[['locality', 'Cases per 1000 people',\n",
    "                         'Hospitalizations per 1000 people',\n",
    "                         'Deaths per 1000 people']]\n",
    "dash.dash_table.DataTable(\n",
    "        id='datatable-interactivity',\n",
    "        columns=[\n",
    "            {\"name\": i, \"id\": i, \"deletable\": True, \"selectable\": True} for i in cases_table.columns\n",
    "        ],\n",
    "        data=cases_table,\n",
    "        editable=True,\n",
    "        filter_action=\"native\",\n",
    "        sort_action=\"native\",\n",
    "        sort_mode=\"multi\",\n",
    "        column_selectable=\"single\",\n",
    "        row_selectable=\"multi\",\n",
    "        row_deletable=True,\n",
    "        selected_columns=[],\n",
    "        selected_rows=[],\n",
    "        page_action=\"native\",\n",
    "        page_current= 0,\n",
    "        page_size= 10)"
   ]
  },
  {
   "cell_type": "markdown",
   "metadata": {
    "application/vnd.databricks.v1+cell": {
     "cellMetadata": {},
     "inputWidgets": {},
     "nuid": "2aff36ae-4c13-4ce8-8159-f23980af5991",
     "showTitle": false,
     "tableResultSettingsMap": {},
     "title": ""
    }
   },
   "source": [
    "### Create the trend dataset"
   ]
  },
  {
   "cell_type": "code",
   "execution_count": 0,
   "metadata": {
    "application/vnd.databricks.v1+cell": {
     "cellMetadata": {},
     "inputWidgets": {},
     "nuid": "5c643df5-eea7-4abf-ba20-3b0242842000",
     "showTitle": false,
     "tableResultSettingsMap": {},
     "title": ""
    }
   },
   "outputs": [],
   "source": [
    "cases_trend = cases[['report_date', 'fips', 'locality', 'total_cases', 'hospitalizations', 'deaths']]\n",
    "cases_trend = pd.melt(cases_trend, id_vars = ['report_date', 'fips', 'locality'],\n",
    "                     value_vars = ['total_cases', 'hospitalizations', 'deaths'])\n",
    "cases_trend['date14'] = cases_trend['report_date'] + timedelta(14)\n",
    "cases_trend['date28'] = cases_trend['report_date'] + timedelta(28)\n",
    "\n",
    "cases_trend = pd.merge(cases_trend, cases_trend,\n",
    "                      right_on = ['report_date', 'fips', 'locality', 'variable'],\n",
    "                      left_on = ['date14', 'fips', 'locality', 'variable'])\n",
    "\n",
    "cases_trend = cases_trend.drop(['report_date_x','date14_x','date28_x'], axis=1)\n",
    "cases_trend = cases_trend.rename({'report_date_y':'report_date',\n",
    "                                 'date14_y':'date14',\n",
    "                                 'date28_y':'date28',\n",
    "                                 'value_y':'value',\n",
    "                                 'value_x':'value14'}, axis=1)\n",
    "\n",
    "cases_trend = pd.merge(cases_trend, cases_trend,\n",
    "                      right_on = ['report_date', 'fips', 'locality', 'variable'],\n",
    "                      left_on = ['date28', 'fips', 'locality', 'variable'])\n",
    "\n",
    "cases_trend = cases_trend.drop(['report_date_x','date14_y','date28_y', 'value14_x', 'date14_x', 'date28_x'], axis=1)\n",
    "cases_trend = cases_trend.rename({'report_date_y':'report_date',\n",
    "                                 'value_y':'value',\n",
    "                                 'value14_y':'value14',\n",
    "                                 'value_x':'value28'}, axis=1)\n",
    "#cases_trend = cases_trend.loc[cases_trend['report_date'] == max(cases_trend['report_date'])]\n",
    "cases_trend['Most recent 14 days'] = cases_trend['value'] - cases_trend['value14']\n",
    "cases_trend['Previous 14 days'] = cases_trend['value14'] - cases_trend['value28']\n",
    "cases_trend['Trend'] = round(100*(cases_trend['Most recent 14 days'] - cases_trend['Previous 14 days']) / cases_trend['Previous 14 days'], 1)\n",
    "cases_trend['Trend'] = cases_trend['Trend'].astype('str') + \"%\"\n",
    "cases_trend"
   ]
  },
  {
   "cell_type": "markdown",
   "metadata": {
    "application/vnd.databricks.v1+cell": {
     "cellMetadata": {},
     "inputWidgets": {},
     "nuid": "d38422e1-e9af-4e0c-8938-54b4cfa66315",
     "showTitle": false,
     "tableResultSettingsMap": {},
     "title": ""
    }
   },
   "source": [
    "### Line plot and table for one locality"
   ]
  },
  {
   "cell_type": "code",
   "execution_count": 0,
   "metadata": {
    "application/vnd.databricks.v1+cell": {
     "cellMetadata": {},
     "inputWidgets": {},
     "nuid": "7d554ccc-abd9-40e5-9a9b-b00ba57d4f94",
     "showTitle": false,
     "tableResultSettingsMap": {},
     "title": ""
    }
   },
   "outputs": [],
   "source": [
    "loc = 'Alleghany'\n",
    "today = max(cases_trend['report_date']).strftime('%B %d, %Y')\n",
    "title = f\"COVID Statistics for {loc} through {today}\"\n",
    "cases_loc = cases_trend.query(f\"locality == '{loc}'\")\n",
    "fig = px.line(cases_loc, x='report_date', y='value', color='variable', facet_row='variable', \n",
    "                 hover_data=['Most recent 14 days', 'Previous 14 days', 'Trend'],\n",
    "                 labels={'report_date':'Date', \n",
    "                      'value':'Total'},\n",
    "                 title = title,\n",
    "                 width=1000, height=800)\n",
    "fig.update(layout=dict(title=dict(x=0.5)))\n",
    "fig.update_layout(showlegend=False)\n",
    "fig.for_each_annotation(lambda a: a.update(text=a.text.replace(\"variable=\", \"\")))\n",
    "fig.update_yaxes(matches=None)\n",
    "fig.show()"
   ]
  },
  {
   "cell_type": "code",
   "execution_count": 0,
   "metadata": {
    "application/vnd.databricks.v1+cell": {
     "cellMetadata": {},
     "inputWidgets": {},
     "nuid": "0a867bf0-7936-4744-9451-8c2878aeea4b",
     "showTitle": false,
     "tableResultSettingsMap": {},
     "title": ""
    }
   },
   "outputs": [],
   "source": [
    "tab = cases_loc.loc[cases_loc['report_date'] == max(cases_loc['report_date'])][['variable', \n",
    "                                                                          'Most recent 14 days',\n",
    "                                                                         'Previous 14 days',\n",
    "                                                                         'Trend']]"
   ]
  },
  {
   "cell_type": "code",
   "execution_count": 0,
   "metadata": {
    "application/vnd.databricks.v1+cell": {
     "cellMetadata": {},
     "inputWidgets": {},
     "nuid": "f31d12c5-7629-482b-9d19-af2021d49ad5",
     "showTitle": false,
     "tableResultSettingsMap": {},
     "title": ""
    }
   },
   "outputs": [],
   "source": [
    "dash.dash_table.DataTable(\n",
    "        id='datatable-interactivity',\n",
    "        columns=[\n",
    "            {\"name\": i, \"id\": i, \"deletable\": True, \"selectable\": True} for i in tab.columns\n",
    "        ],\n",
    "        data=tab,\n",
    "        editable=True,\n",
    "        filter_action=\"native\",\n",
    "        sort_action=\"native\",\n",
    "        sort_mode=\"multi\",\n",
    "        column_selectable=\"single\",\n",
    "        row_selectable=\"multi\",\n",
    "        row_deletable=True,\n",
    "        selected_columns=[],\n",
    "        selected_rows=[],\n",
    "        page_action=\"native\",\n",
    "        page_current= 0,\n",
    "        page_size= 10)"
   ]
  },
  {
   "cell_type": "code",
   "execution_count": 0,
   "metadata": {
    "application/vnd.databricks.v1+cell": {
     "cellMetadata": {},
     "inputWidgets": {},
     "nuid": "d34491ba-9e5a-4fd5-8856-4717e89524c5",
     "showTitle": false,
     "tableResultSettingsMap": {},
     "title": ""
    }
   },
   "outputs": [],
   "source": []
  }
 ],
 "metadata": {
  "application/vnd.databricks.v1+notebook": {
   "computePreferences": null,
   "dashboards": [],
   "environmentMetadata": null,
   "inputWidgetPreferences": null,
   "language": "python",
   "notebookMetadata": {},
   "notebookName": "dashboard_elements",
   "widgets": {}
  },
  "kernelspec": {
   "display_name": "Python 3 (ipykernel)",
   "language": "python",
   "name": "python3"
  },
  "language_info": {
   "name": "python"
  }
 },
 "nbformat": 4,
 "nbformat_minor": 0
}