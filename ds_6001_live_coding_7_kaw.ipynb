{
 "cells": [
  {
   "cell_type": "code",
   "execution_count": 0,
   "metadata": {
    "application/vnd.databricks.v1+cell": {
     "cellMetadata": {
      "byteLimit": 2048000,
      "rowLimit": 10000
     },
     "inputWidgets": {},
     "nuid": "095658ab-d126-403f-ac01-26a3bdaa1e59",
     "showTitle": false,
     "tableResultSettingsMap": {},
     "title": ""
    }
   },
   "outputs": [],
   "source": [
    "dbutils.library.restartPython() "
   ]
  },
  {
   "cell_type": "code",
   "execution_count": 0,
   "metadata": {
    "application/vnd.databricks.v1+cell": {
     "cellMetadata": {
      "byteLimit": 2048000,
      "rowLimit": 10000
     },
     "inputWidgets": {},
     "nuid": "74b32714-747b-4b34-9499-2dabc81a15a0",
     "showTitle": false,
     "tableResultSettingsMap": {},
     "title": ""
    }
   },
   "outputs": [],
   "source": [
    "import numpy as np\n",
    "import pandas as pd\n",
    "#!pip install typing-extensions\n",
    "#!pip install sqlalchemy\n",
    "from sqlalchemy import create_engine\n",
    "!pip install dotenv\n",
    "import dotenv \n",
    "import os\n",
    "#import sqlite3\n",
    "!pip install psycopg-binary\n",
    "import psycopg2"
   ]
  },
  {
   "cell_type": "code",
   "execution_count": 0,
   "metadata": {
    "application/vnd.databricks.v1+cell": {
     "cellMetadata": {
      "byteLimit": 2048000,
      "rowLimit": 10000
     },
     "inputWidgets": {},
     "nuid": "be24d0c2-4ae7-440d-aa91-96e7dfea55e1",
     "showTitle": false,
     "tableResultSettingsMap": {},
     "title": ""
    }
   },
   "outputs": [],
   "source": [
    "dotenv.load_dotenv()\n",
    "POSTGRES_PASSWORD = os.getenv('POSTGRES_PASSWORD')\n",
    "#print(POSTGRES_PASSWORD)"
   ]
  },
  {
   "cell_type": "markdown",
   "metadata": {
    "application/vnd.databricks.v1+cell": {
     "cellMetadata": {
      "byteLimit": 2048000,
      "rowLimit": 10000
     },
     "inputWidgets": {},
     "nuid": "e4725411-fd9a-4d57-8a99-6821b96823e9",
     "showTitle": false,
     "tableResultSettingsMap": {},
     "title": ""
    }
   },
   "source": [
    "Anatomy of an HTML line:\n",
    "* Tag: code that represents a specific visual thing to put on a page. 'a' tag is for hyperlink\n",
    "<a> is our tag\n"
   ]
  },
  {
   "cell_type": "markdown",
   "metadata": {
    "application/vnd.databricks.v1+cell": {
     "cellMetadata": {
      "byteLimit": 2048000,
      "rowLimit": 10000
     },
     "inputWidgets": {},
     "nuid": "11cc3429-9ce2-4afd-a252-4909aefe6426",
     "showTitle": false,
     "tableResultSettingsMap": {},
     "title": ""
    }
   },
   "source": []
  },
  {
   "cell_type": "code",
   "execution_count": 0,
   "metadata": {
    "application/vnd.databricks.v1+cell": {
     "cellMetadata": {
      "byteLimit": 2048000,
      "rowLimit": 10000
     },
     "inputWidgets": {},
     "nuid": "3f26702a-7497-4590-a4d5-e8478ec608b4",
     "showTitle": false,
     "tableResultSettingsMap": {},
     "title": ""
    }
   },
   "outputs": [],
   "source": [
    "host=\"ekaw-server.postgres.database.azure.com\"\n",
    "database=\"postgres\"\n",
    "user=\"ekaw_admin\"\n",
    "password=POSTGRES_PASSWORD = os.getenv('POSTGRES_PASSWORD')\n",
    "port=5432\n",
    "DBSERVER=psycopg2.connect(host=host,database=database,user=user,password=password,port=port)  \n",
    "DBSERVER.autocommit = True\n",
    "engine = create_engine(f\"{'postgresql'}+{'psycopg2'}://{user}:{password}@{host}:{port}/{'nba'}\")"
   ]
  },
  {
   "cell_type": "code",
   "execution_count": 0,
   "metadata": {
    "application/vnd.databricks.v1+cell": {
     "cellMetadata": {
      "byteLimit": 2048000,
      "rowLimit": 10000
     },
     "inputWidgets": {},
     "nuid": "272e0e1b-8ce1-49b3-850a-5a446da9e311",
     "showTitle": false,
     "tableResultSettingsMap": {},
     "title": ""
    }
   },
   "outputs": [],
   "source": [
    "#query this\n",
    "from sqlalchemy import text\n",
    "myquery = \"\"\"SELECT * FROM games;\"\"\"\n",
    "pd.read_sql_query(text(myquery), con=engine.connect())"
   ]
  },
  {
   "cell_type": "code",
   "execution_count": 0,
   "metadata": {
    "application/vnd.databricks.v1+cell": {
     "cellMetadata": {
      "byteLimit": 2048000,
      "rowLimit": 10000
     },
     "inputWidgets": {},
     "nuid": "93b18935-29ac-451a-b8a5-8ffb06784c94",
     "showTitle": false,
     "tableResultSettingsMap": {},
     "title": ""
    }
   },
   "outputs": [],
   "source": [
    "myquery = \"\"\"\n",
    "SELECT * \n",
    "    FROM games\n",
    "WHERE season = 2022\n",
    "    AND ot > 0\"\"\"\n",
    "pd.read_sql_query(text(myquery), con=engine.connect())"
   ]
  },
  {
   "cell_type": "markdown",
   "metadata": {
    "application/vnd.databricks.v1+cell": {
     "cellMetadata": {},
     "inputWidgets": {},
     "nuid": "34e25a77-c6e8-4a82-9d56-3776bd52543e",
     "showTitle": false,
     "tableResultSettingsMap": {},
     "title": ""
    }
   },
   "source": [
    "###Challenge 1: Who's the MVP"
   ]
  },
  {
   "cell_type": "code",
   "execution_count": 0,
   "metadata": {
    "application/vnd.databricks.v1+cell": {
     "cellMetadata": {
      "byteLimit": 2048000,
      "rowLimit": 10000
     },
     "inputWidgets": {},
     "nuid": "15b92460-686b-44b1-8322-c9e2c47852de",
     "showTitle": false,
     "tableResultSettingsMap": {},
     "title": ""
    }
   },
   "outputs": [],
   "source": [
    "myquery = \"\"\"\n",
    "\n",
    "SELECT pg.player_id,\n",
    "       p.player,\n",
    "        sum(pts + fg3 - 2*fg + ft - fta + trb+ 2*ast + 4*stl - 2*tov) as mvp_points\n",
    "    FROM player_game pg\n",
    "INNER JOIN games g \n",
    "    ON pg.game_id = g.game_id \n",
    "INNER JOIN player p\n",
    "    ON pg.player_id = p.player_id\n",
    "WHERE g.season = 2022\n",
    "GROUP BY pg.player_id, p.player\n",
    "ORDER BY mvp_points DESC\n",
    "\n",
    "\"\"\"\n",
    "\n",
    "pd.read_sql_query(text(myquery), con=engine.connect())"
   ]
  },
  {
   "cell_type": "code",
   "execution_count": 0,
   "metadata": {
    "application/vnd.databricks.v1+cell": {
     "cellMetadata": {
      "byteLimit": 2048000,
      "rowLimit": 10000
     },
     "inputWidgets": {},
     "nuid": "f3900a29-c7a0-4678-b36d-7801774b55b4",
     "showTitle": false,
     "tableResultSettingsMap": {},
     "title": ""
    }
   },
   "outputs": [],
   "source": [
    "myquery = \"\"\"\n",
    "\n",
    "SELECT pg.player_id,        \n",
    "        SUM(CASE WHEN pts >= 10 and trb >= 10 and ast >= 10  THEN 1 ELSE 0 END) AS triple_double_indicator\n",
    "    FROM player_game pg\n",
    "INNER JOIN games g \n",
    "    ON pg.game_id = g.game_id \n",
    "INNER JOIN player p\n",
    "    ON pg.player_id = p.player_id\n",
    "WHERE g.season = 2022\n",
    "GROUP BY pg.player_id\n",
    "ORDER BY triple_double_indicator DESC\n",
    "\n",
    "\"\"\"\n",
    "\n",
    "pd.read_sql_query(text(myquery), con=engine.connect())"
   ]
  },
  {
   "cell_type": "code",
   "execution_count": 0,
   "metadata": {
    "application/vnd.databricks.v1+cell": {
     "cellMetadata": {},
     "inputWidgets": {},
     "nuid": "854dbbb7-b3c5-43d1-a329-5927ae660e3e",
     "showTitle": false,
     "tableResultSettingsMap": {},
     "title": ""
    }
   },
   "outputs": [],
   "source": []
  },
  {
   "cell_type": "code",
   "execution_count": 0,
   "metadata": {
    "application/vnd.databricks.v1+cell": {
     "cellMetadata": {},
     "inputWidgets": {},
     "nuid": "66ec8721-2455-4d89-84e4-ddfe8904e1dc",
     "showTitle": false,
     "tableResultSettingsMap": {},
     "title": ""
    }
   },
   "outputs": [],
   "source": []
  },
  {
   "cell_type": "code",
   "execution_count": 0,
   "metadata": {
    "application/vnd.databricks.v1+cell": {
     "cellMetadata": {},
     "inputWidgets": {},
     "nuid": "e2cb21d6-e00d-469c-a2fc-e71cb62aa54c",
     "showTitle": false,
     "tableResultSettingsMap": {},
     "title": ""
    }
   },
   "outputs": [],
   "source": []
  },
  {
   "cell_type": "code",
   "execution_count": 0,
   "metadata": {
    "application/vnd.databricks.v1+cell": {
     "cellMetadata": {
      "byteLimit": 2048000,
      "rowLimit": 10000
     },
     "inputWidgets": {},
     "nuid": "84343159-e17e-4f82-8bac-3f775829d97c",
     "showTitle": false,
     "tableResultSettingsMap": {},
     "title": ""
    },
    "jupyter": {
     "outputs_hidden": true,
     "source_hidden": true
    }
   },
   "outputs": [],
   "source": [
    "players= nba[['player_id','player']].drop_duplicates()\n",
    "players.head(10)\n",
    "#player_game = nba.drop(['game_date','OT','season','player']"
   ]
  },
  {
   "cell_type": "code",
   "execution_count": 0,
   "metadata": {
    "application/vnd.databricks.v1+cell": {
     "cellMetadata": {
      "byteLimit": 2048000,
      "rowLimit": 10000
     },
     "inputWidgets": {},
     "nuid": "c6d780fd-84ed-4af0-bf4c-1ac6738d25ea",
     "showTitle": false,
     "tableResultSettingsMap": {},
     "title": ""
    },
    "jupyter": {
     "outputs_hidden": true,
     "source_hidden": true
    }
   },
   "outputs": [],
   "source": [
    "team_game = nba[['game_id','Team_Abbrev','Team_Score','Team_pace','Team_efg_pct','Team_tov_pct','Team_orb_pct','Team_ft_rate','Team_off_rtg','H_A','Opponent_Abbrev']].drop_duplicates()\n",
    "team_game.head(10)"
   ]
  },
  {
   "cell_type": "code",
   "execution_count": 0,
   "metadata": {
    "application/vnd.databricks.v1+cell": {
     "cellMetadata": {
      "byteLimit": 2048000,
      "rowLimit": 10000
     },
     "inputWidgets": {},
     "nuid": "d5e538c2-724c-4ba3-9ff6-38b094dde1f7",
     "showTitle": false,
     "tableResultSettingsMap": {},
     "title": ""
    },
    "jupyter": {
     "outputs_hidden": true,
     "source_hidden": true
    }
   },
   "outputs": [],
   "source": [
    "games = nba[['game_id','game_date','OT','season']].drop_duplicates()\n",
    "games.head(10)"
   ]
  },
  {
   "cell_type": "code",
   "execution_count": 0,
   "metadata": {
    "application/vnd.databricks.v1+cell": {
     "cellMetadata": {
      "byteLimit": 2048000,
      "rowLimit": 10000
     },
     "inputWidgets": {},
     "nuid": "1191e5c2-0965-4c58-83d2-0de752fa845f",
     "showTitle": false,
     "tableResultSettingsMap": {},
     "title": ""
    },
    "jupyter": {
     "outputs_hidden": true,
     "source_hidden": true
    }
   },
   "outputs": [],
   "source": [
    "player_game = nba.drop(['game_date','OT','season','player','Team_Abbrev','Team_Score','Team_pace','H_A','Team_efg_pct','Team_tov_pct','Team_orb_pct','Team_ft_rate','Team_off_rtg','Opponent_Abbrev','Opponent_Score','Opponent_pace','Opponent_efg_pct','Opponent_tov_pct','Opponent_orb_pct','Opponent_ft_rate','Opponent_off_rtg'], axis=1)\n",
    "player_game.head(10)\n",
    "#'Inactives'"
   ]
  },
  {
   "cell_type": "code",
   "execution_count": 0,
   "metadata": {
    "application/vnd.databricks.v1+cell": {
     "cellMetadata": {
      "byteLimit": 2048000,
      "rowLimit": 10000
     },
     "inputWidgets": {},
     "nuid": "dfe8366c-5747-41c0-aa1f-3fac4fe1f37c",
     "showTitle": false,
     "tableResultSettingsMap": {},
     "title": ""
    },
    "jupyter": {
     "source_hidden": true
    }
   },
   "outputs": [],
   "source": [
    "#POSTGRES DOES NOT like capiutl letters in column names\n",
    "player_game.columns = player_game.columns.str.lower()\n",
    "games.columns = games.columns.str.lower()\n",
    "team_game.columns=team_game.columns.str.lower()\n",
    "players.columns= players.columns.str.lower()\n"
   ]
  },
  {
   "cell_type": "markdown",
   "metadata": {
    "application/vnd.databricks.v1+cell": {
     "cellMetadata": {
      "byteLimit": 2048000,
      "rowLimit": 10000
     },
     "collapsed": true,
     "inputWidgets": {},
     "nuid": "2422c36e-e01e-4b39-a8ca-7441011ec436",
     "showTitle": false,
     "tableResultSettingsMap": {},
     "title": ""
    }
   },
   "source": [
    "###Not enough memory on my laptop to run docker, so cannot follow along beyond here with the docker parts"
   ]
  },
  {
   "cell_type": "code",
   "execution_count": 0,
   "metadata": {
    "application/vnd.databricks.v1+cell": {
     "cellMetadata": {
      "byteLimit": 2048000,
      "rowLimit": 10000
     },
     "inputWidgets": {},
     "nuid": "7854c8cd-8e4d-4fc6-a1e0-59c8a7d3c54b",
     "showTitle": false,
     "tableResultSettingsMap": {},
     "title": ""
    }
   },
   "outputs": [],
   "source": []
  },
  {
   "cell_type": "code",
   "execution_count": 0,
   "metadata": {
    "application/vnd.databricks.v1+cell": {
     "cellMetadata": {
      "byteLimit": 2048000,
      "rowLimit": 10000
     },
     "inputWidgets": {},
     "nuid": "5bcd1c0e-600e-4478-ab10-e40e96469737",
     "showTitle": false,
     "tableResultSettingsMap": {},
     "title": ""
    }
   },
   "outputs": [],
   "source": []
  },
  {
   "cell_type": "code",
   "execution_count": 0,
   "metadata": {
    "application/vnd.databricks.v1+cell": {
     "cellMetadata": {
      "byteLimit": 2048000,
      "rowLimit": 10000
     },
     "inputWidgets": {},
     "nuid": "7863965d-771d-4bf0-888b-6e1972438aa1",
     "showTitle": false,
     "tableResultSettingsMap": {},
     "title": ""
    }
   },
   "outputs": [],
   "source": [
    "#!pip install postgresql@10\n"
   ]
  },
  {
   "cell_type": "code",
   "execution_count": 0,
   "metadata": {
    "application/vnd.databricks.v1+cell": {
     "cellMetadata": {
      "byteLimit": 2048000,
      "rowLimit": 10000
     },
     "inputWidgets": {},
     "nuid": "7852b1d0-e69d-4254-88ff-b9a51cb930e0",
     "showTitle": false,
     "tableResultSettingsMap": {},
     "title": ""
    }
   },
   "outputs": [],
   "source": []
  },
  {
   "cell_type": "code",
   "execution_count": 0,
   "metadata": {
    "application/vnd.databricks.v1+cell": {
     "cellMetadata": {
      "byteLimit": 2048000,
      "rowLimit": 10000
     },
     "inputWidgets": {},
     "nuid": "4f10d530-5cba-4fe6-b69d-00ecbf5a26d1",
     "showTitle": false,
     "tableResultSettingsMap": {},
     "title": ""
    },
    "jupyter": {
     "outputs_hidden": true,
     "source_hidden": true
    }
   },
   "outputs": [],
   "source": [
    "host=\"ekaw-server.postgres.database.azure.com\"\n",
    "database=\"postgres\"\n",
    "user=\"ekaw_admin\"\n",
    "password=POSTGRES_PASSWORD = os.getenv('POSTGRES_PASSWORD')\n",
    "port=5432\n",
    "DBSERVER=psycopg2.connect(host=host,database=database,user=user,password=password,port=port)  \n",
    "DBSERVER.autocommit = True"
   ]
  },
  {
   "cell_type": "code",
   "execution_count": 0,
   "metadata": {
    "application/vnd.databricks.v1+cell": {
     "cellMetadata": {
      "byteLimit": 2048000,
      "rowLimit": 10000
     },
     "inputWidgets": {},
     "nuid": "7537f00d-2509-4571-82b9-b46b935db33b",
     "showTitle": false,
     "tableResultSettingsMap": {},
     "title": ""
    },
    "jupyter": {
     "source_hidden": true
    }
   },
   "outputs": [],
   "source": [
    "cursor = DBSERVER.cursor()\n",
    "try:    \n",
    "    cursor.execute(\"CREATE DATABASE nba\")\n",
    "except:\n",
    "    cursor.execute(\"DROP DATABASE nba\")\n",
    "    cursor.execute(\"CREATE DATABASE nba\")"
   ]
  },
  {
   "cell_type": "code",
   "execution_count": 0,
   "metadata": {
    "application/vnd.databricks.v1+cell": {
     "cellMetadata": {
      "byteLimit": 2048000,
      "rowLimit": 10000
     },
     "inputWidgets": {},
     "nuid": "910c276a-f1f4-4b56-8aff-c0cb9c656706",
     "showTitle": false,
     "tableResultSettingsMap": {},
     "title": ""
    },
    "jupyter": {
     "outputs_hidden": true,
     "source_hidden": true
    }
   },
   "outputs": [],
   "source": [
    "# engine = create_engine('Driver={ODBC Driver 18 for SQL Server};Server=tcp:ds6001-lab6-live-coding-pg-kaw.database.windows.net,1433;Database=DS6001_LAB6_LIVECODING_PG_KAW;Uid=ekaw_admin;Pwd={your_password_here};Encrypt=yes;TrustServerCertificate=no;Connection Timeout=30;',\n",
    "#                                       pool_size=10,\n",
    "#                                       max_overflow=2,\n",
    "#                                       pool_recycle=300,\n",
    "#                                       pool_pre_ping=True,\n",
    "#                                       pool_use_lifo=True)\n",
    "\n",
    "#sqlalchemy.orm.sessionmaker(bind=engine, query_cls=RetryingQuery)"
   ]
  },
  {
   "cell_type": "code",
   "execution_count": 0,
   "metadata": {
    "application/vnd.databricks.v1+cell": {
     "cellMetadata": {
      "byteLimit": 2048000,
      "rowLimit": 10000
     },
     "inputWidgets": {},
     "nuid": "04576d83-4a51-42f0-a88f-c1e10d5012f8",
     "showTitle": false,
     "tableResultSettingsMap": {},
     "title": ""
    },
    "jupyter": {
     "source_hidden": true
    }
   },
   "outputs": [],
   "source": [
    "#use sql alchemy to create a conncetion to a database\n",
    "engine = create_engine(f\"{'postgresql'}+{'psycopg2'}://{user}:{password}@{host}:{port}/{'nba'}\")"
   ]
  },
  {
   "cell_type": "code",
   "execution_count": 0,
   "metadata": {
    "application/vnd.databricks.v1+cell": {
     "cellMetadata": {
      "byteLimit": 2048000,
      "rowLimit": 10000
     },
     "inputWidgets": {},
     "nuid": "b7fdd4d3-bd4c-4790-abb6-ea47b260bcb0",
     "showTitle": false,
     "tableResultSettingsMap": {},
     "title": ""
    },
    "jupyter": {
     "source_hidden": true
    }
   },
   "outputs": [],
   "source": [
    "player_game.to_sql('player_game',con=engine,if_exists='replace',index=False, chunksize = 1000)\n",
    "players.to_sql('player',con=engine,if_exists='replace',index=False, chunksize = 1000)\n",
    "team_game.to_sql('team_game',con=engine,if_exists='replace',index=False, chunksize = 1000)\n",
    "games.to_sql('games',con=engine,if_exists='replace',index=False, chunksize = 1000)"
   ]
  },
  {
   "cell_type": "code",
   "execution_count": 0,
   "metadata": {
    "application/vnd.databricks.v1+cell": {
     "cellMetadata": {
      "byteLimit": 2048000,
      "rowLimit": 10000
     },
     "inputWidgets": {},
     "nuid": "73419745-f474-45fa-a7b2-5680cec413aa",
     "showTitle": false,
     "tableResultSettingsMap": {},
     "title": ""
    },
    "jupyter": {
     "outputs_hidden": true,
     "source_hidden": true
    }
   },
   "outputs": [],
   "source": []
  },
  {
   "cell_type": "code",
   "execution_count": 0,
   "metadata": {
    "application/vnd.databricks.v1+cell": {
     "cellMetadata": {
      "byteLimit": 2048000,
      "rowLimit": 10000
     },
     "inputWidgets": {},
     "nuid": "374f0f77-3719-49e5-b664-d42a3845f04f",
     "showTitle": false,
     "tableResultSettingsMap": {},
     "title": ""
    },
    "jupyter": {
     "outputs_hidden": true,
     "source_hidden": true
    }
   },
   "outputs": [],
   "source": [
    "DBSERVER.close()"
   ]
  },
  {
   "cell_type": "markdown",
   "metadata": {
    "application/vnd.databricks.v1+cell": {
     "cellMetadata": {
      "byteLimit": 2048000,
      "rowLimit": 10000
     },
     "inputWidgets": {},
     "nuid": "64ce9c5c-f235-4715-ae19-f7d81bcad38b",
     "showTitle": false,
     "tableResultSettingsMap": {},
     "title": ""
    }
   },
   "source": []
  }
 ],
 "metadata": {
  "application/vnd.databricks.v1+notebook": {
   "computePreferences": null,
   "dashboards": [],
   "environmentMetadata": null,
   "inputWidgetPreferences": null,
   "language": "python",
   "notebookMetadata": {
    "pythonIndentUnit": 4
   },
   "notebookName": "ds_6001_live_coding_7_kaw",
   "widgets": {}
  },
  "kernelspec": {
   "display_name": "Python 3",
   "language": "python",
   "name": "python3"
  },
  "language_info": {
   "name": "python"
  }
 },
 "nbformat": 4,
 "nbformat_minor": 0
}