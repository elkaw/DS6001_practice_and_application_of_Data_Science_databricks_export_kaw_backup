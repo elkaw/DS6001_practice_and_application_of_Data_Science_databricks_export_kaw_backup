{
 "cells": [
  {
   "cell_type": "markdown",
   "metadata": {
    "application/vnd.databricks.v1+cell": {
     "cellMetadata": {},
     "inputWidgets": {},
     "nuid": "1d65d5b7-d445-477a-91c5-05fb489973b4",
     "showTitle": false,
     "tableResultSettingsMap": {},
     "title": ""
    }
   },
   "source": [
    "# Lab Assignment 9: Data Management Using pandas , Part 2\n",
    "## DS 6001: Practice and Application of Data Science\n",
    "### Instructions"
   ]
  },
  {
   "cell_type": "markdown",
   "metadata": {
    "application/vnd.databricks.v1+cell": {
     "cellMetadata": {},
     "inputWidgets": {},
     "nuid": "be00ebb8-3cde-49a4-bdd3-898c701410da",
     "showTitle": false,
     "tableResultSettingsMap": {},
     "title": ""
    }
   },
   "source": [
    "In this lab, we are going to build the Country Analysis Relational DataBase (which we will call the C.A.R.D.B. or the \"Cardi B\"):\n",
    "\n",
    "We will be collecting data from two sources. First, we will use open data from the World\n",
    "Bank's Sovereign Environmental, Social, and Governance (ESG) Data project. The ESG\n",
    "data reports data from every country in the world over the time frame from 1960-2022\n",
    "on a wide variety of topics including education, health, and economic factors within the\n",
    "countries. Second, we will use data on the quality and democratic character of\n",
    "countries' governments as reported by the Varieties of Democracy (V-Dem) project at\n",
    "the University of Notre Dame. By using both data sources, we can conduct analyses to\n",
    "see whether democratic openness leads to better societal outcomes for countries. We\n",
    "can also write queries to capture a wide range of information on countries' political\n",
    "parties, tax systems, and banking industries, for example. Or as Cardi B would say, \"You\n",
    "in the club just to party, I'm there, I get paid a fee. I be in and out them banks so much, I\n",
    "know they're tired of me.\""
   ]
  },
  {
   "cell_type": "markdown",
   "metadata": {
    "application/vnd.databricks.v1+cell": {
     "cellMetadata": {
      "byteLimit": 2048000,
      "rowLimit": 10000
     },
     "inputWidgets": {},
     "nuid": "e96a2a90-68be-45cb-a60e-968eb0824c73",
     "showTitle": false,
     "tableResultSettingsMap": {},
     "title": ""
    }
   },
   "source": [
    "### Problem 0\n",
    "Import the following packages (use `pip install` to download any packages you don't already have installed):"
   ]
  },
  {
   "cell_type": "code",
   "execution_count": 0,
   "metadata": {
    "application/vnd.databricks.v1+cell": {
     "cellMetadata": {
      "byteLimit": 2048000,
      "rowLimit": 10000
     },
     "inputWidgets": {},
     "nuid": "dc1c0024-b5b6-4bc6-899b-7ebdfd96826e",
     "showTitle": false,
     "tableResultSettingsMap": {},
     "title": ""
    }
   },
   "outputs": [],
   "source": [
    "import numpy as np\n",
    "import pandas as pd\n",
    "import requests\n",
    "import os\n",
    "import io\n",
    "import zipfile"
   ]
  },
  {
   "cell_type": "markdown",
   "metadata": {
    "application/vnd.databricks.v1+cell": {
     "cellMetadata": {
      "byteLimit": 2048000,
      "rowLimit": 10000
     },
     "inputWidgets": {},
     "nuid": "33fca6da-9f03-4231-adf3-2accfcbd5bde",
     "showTitle": false,
     "tableResultSettingsMap": {},
     "title": ""
    }
   },
   "source": [
    "Both the World Bank and V-Dem store their data in zipped directories containing CSV files. Download the World Bank data into your current working directory by typing the following code:"
   ]
  },
  {
   "cell_type": "code",
   "execution_count": 0,
   "metadata": {
    "application/vnd.databricks.v1+cell": {
     "cellMetadata": {
      "byteLimit": 2048000,
      "rowLimit": 10000
     },
     "inputWidgets": {},
     "nuid": "cf0ee0ed-b62d-4698-b229-2c94cc8d9094",
     "showTitle": false,
     "tableResultSettingsMap": {},
     "title": ""
    }
   },
   "outputs": [],
   "source": [
    "url = 'https://databank.worldbank.org/data/download/ESG_CSV.zip'\n",
    "r = requests.get(url)\n",
    "z = zipfile.ZipFile(io.BytesIO(r.content))\n",
    "z.extractall()"
   ]
  },
  {
   "cell_type": "markdown",
   "metadata": {
    "application/vnd.databricks.v1+cell": {
     "cellMetadata": {},
     "inputWidgets": {},
     "nuid": "513445d6-9e36-4aa8-9132-a930b52bb41c",
     "showTitle": false,
     "tableResultSettingsMap": {},
     "title": ""
    }
   },
   "source": [
    "And download the V-Dem data by typing:"
   ]
  },
  {
   "cell_type": "code",
   "execution_count": 0,
   "metadata": {
    "application/vnd.databricks.v1+cell": {
     "cellMetadata": {
      "byteLimit": 2048000,
      "rowLimit": 10000
     },
     "inputWidgets": {},
     "nuid": "91afd1db-6a73-4c22-8af2-c03c7047f2dd",
     "showTitle": false,
     "tableResultSettingsMap": {},
     "title": ""
    }
   },
   "outputs": [],
   "source": [
    "url = 'https://v-dem.net/media/datasets/V-Dem-CY-Core_csv_v13.zip'\n",
    "r = requests.get(url)\n",
    "z = zipfile.ZipFile(io.BytesIO(r.content))\n",
    "z.extractall()"
   ]
  },
  {
   "cell_type": "markdown",
   "metadata": {
    "application/vnd.databricks.v1+cell": {
     "cellMetadata": {},
     "inputWidgets": {},
     "nuid": "ff671b5a-8e02-46c0-a238-80008dc25577",
     "showTitle": false,
     "tableResultSettingsMap": {},
     "title": ""
    }
   },
   "source": [
    "After you've run this code successfully once, the files you need will be in your working directory and you should save time by switching these cells from \"code\" to \"raw\" so that they don't run again if you restart the kernel. You will only need three of the files you've downloaded. Load the 'V-Dem-CY-Corev13.csv' file as vdem and the 'ESGData.csv' file as wb ."
   ]
  },
  {
   "cell_type": "code",
   "execution_count": 0,
   "metadata": {
    "application/vnd.databricks.v1+cell": {
     "cellMetadata": {
      "byteLimit": 2048000,
      "rowLimit": 10000
     },
     "inputWidgets": {},
     "nuid": "974e6c2c-5a27-4ca9-a838-bb995b11c701",
     "showTitle": false,
     "tableResultSettingsMap": {},
     "title": ""
    }
   },
   "outputs": [],
   "source": [
    "vdem = pd.read_csv('V-Dem-CY-Core-v13.csv')\n",
    "wb = pd.read_csv('ESGData.csv')"
   ]
  },
  {
   "cell_type": "code",
   "execution_count": 0,
   "metadata": {
    "application/vnd.databricks.v1+cell": {
     "cellMetadata": {},
     "inputWidgets": {},
     "nuid": "d2cdc51f-4077-47b5-8433-806aa703bd29",
     "showTitle": false,
     "tableResultSettingsMap": {},
     "title": ""
    }
   },
   "outputs": [],
   "source": []
  }
 ],
 "metadata": {
  "application/vnd.databricks.v1+notebook": {
   "computePreferences": null,
   "dashboards": [],
   "environmentMetadata": {
    "base_environment": "",
    "environment_version": "2"
   },
   "inputWidgetPreferences": null,
   "language": "python",
   "notebookMetadata": {
    "pythonIndentUnit": 4
   },
   "notebookName": "new_lab9_ka_ds6001",
   "widgets": {}
  },
  "language_info": {
   "name": "python"
  }
 },
 "nbformat": 4,
 "nbformat_minor": 0
}