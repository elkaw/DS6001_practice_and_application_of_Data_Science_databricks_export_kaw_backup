{
 "cells": [
  {
   "cell_type": "markdown",
   "metadata": {
    "application/vnd.databricks.v1+cell": {
     "cellMetadata": {
      "byteLimit": 2048000,
      "rowLimit": 10000
     },
     "inputWidgets": {},
     "nuid": "bcb1d1a2-78fd-48de-b72b-2ffdbf6918ff",
     "showTitle": false,
     "tableResultSettingsMap": {},
     "title": ""
    }
   },
   "source": [
    "# Lab Assignment 9: Data Management Using `pandas`, Part 2\n",
    "## DS 6001: Practice and Application of Data Science\n",
    "\n",
    "### Instructions\n",
    "Please answer the following questions as completely as possible using text, code, and the results of code as needed. Format your answers in a Jupyter notebook. To receive full credit, make sure you address every part of the problem, and make sure your document is formatted in a clean and professional way.\n",
    "\n",
    "In this lab, we are going to build the Country Analysis Relational DataBase (which we will call the C.A.R.D.B. or the \"Cardi B\"):\n",
    "\n",
    "![CardbiB](https://media.giphy.com/media/3oEjI5ry4IwZ3RDw6k/giphy.gif \"cardib\")\n",
    "\n",
    "We will be collecting data from two sources. First, we will use open data from the World Bank's [Sovereign\n",
    "Environmental, Social, and Governance (ESG) Data](https://datatopics.worldbank.org/esg/) project. The ESG data reports data from every country in the world over the time frame from 1960-2022 on a wide variety of topics including education, health, and economic factors within the countries. Second, we will use data on the quality and democratic character of countries' governments as reported by the [Varieties of Democracy (V-Dem)](https://www.v-dem.net/data/the-v-dem-dataset/) project at the University of Notre Dame. By using both data sources, we can conduct analyses to see whether democratic openness leads to better societal outcomes for countries. We can also write queries to capture a wide range of information on countries' political parties, tax systems, and banking industries, for example. Or as Cardi B would say, \"You in the club just to party, I'm there, I get paid a fee. I be in and out them banks so much, I know they're tired of me.\""
   ]
  },
  {
   "cell_type": "markdown",
   "metadata": {
    "application/vnd.databricks.v1+cell": {
     "cellMetadata": {
      "byteLimit": 2048000,
      "rowLimit": 10000
     },
     "inputWidgets": {},
     "nuid": "704ed5a8-be58-420b-a11e-d69cbefc4da0",
     "showTitle": false,
     "tableResultSettingsMap": {},
     "title": ""
    }
   },
   "source": [
    "## Problem 0\n",
    "Import the following packages (use `pip install` to download any packages you don't already have installed):"
   ]
  },
  {
   "cell_type": "code",
   "execution_count": 0,
   "metadata": {
    "application/vnd.databricks.v1+cell": {
     "cellMetadata": {
      "byteLimit": 2048000,
      "rowLimit": 10000
     },
     "inputWidgets": {},
     "nuid": "6a8cd42e-a487-444a-ab00-2bebda57ecb0",
     "showTitle": false,
     "tableResultSettingsMap": {},
     "title": ""
    }
   },
   "outputs": [],
   "source": [
    "import numpy as np\n",
    "import pandas as pd\n",
    "import requests\n",
    "import os\n",
    "import io\n",
    "import zipfile"
   ]
  },
  {
   "cell_type": "markdown",
   "metadata": {
    "application/vnd.databricks.v1+cell": {
     "cellMetadata": {
      "byteLimit": 2048000,
      "rowLimit": 10000
     },
     "inputWidgets": {},
     "nuid": "ccc890bd-6d67-43b7-a942-b1c8533a21ce",
     "showTitle": false,
     "tableResultSettingsMap": {},
     "title": ""
    }
   },
   "source": [
    "Both the World Bank and V-Dem store their data in zipped directories containing CSV files. Download the World Bank data into your current working directory by typing the following code:"
   ]
  },
  {
   "cell_type": "code",
   "execution_count": 0,
   "metadata": {
    "application/vnd.databricks.v1+cell": {
     "cellMetadata": {
      "byteLimit": 2048000,
      "rowLimit": 10000
     },
     "inputWidgets": {},
     "nuid": "7b929ca7-1e07-4524-b18c-00e47818e8cc",
     "showTitle": false,
     "tableResultSettingsMap": {},
     "title": ""
    }
   },
   "outputs": [],
   "source": [
    "url = 'https://databank.worldbank.org/data/download/ESG_CSV.zip'\n",
    "r = requests.get(url)\n",
    "z = zipfile.ZipFile(io.BytesIO(r.content))\n",
    "z.extractall()"
   ]
  },
  {
   "cell_type": "markdown",
   "metadata": {
    "application/vnd.databricks.v1+cell": {
     "cellMetadata": {
      "byteLimit": 2048000,
      "rowLimit": 10000
     },
     "inputWidgets": {},
     "nuid": "ce9193d4-2916-48b3-bf1e-faa2c49e97ca",
     "showTitle": false,
     "tableResultSettingsMap": {},
     "title": ""
    }
   },
   "source": [
    "And download the V-Dem data by typing:"
   ]
  },
  {
   "cell_type": "code",
   "execution_count": 0,
   "metadata": {
    "application/vnd.databricks.v1+cell": {
     "cellMetadata": {
      "byteLimit": 2048000,
      "rowLimit": 10000
     },
     "inputWidgets": {},
     "nuid": "6f9b221d-adf3-417f-b6be-877786fb0340",
     "showTitle": false,
     "tableResultSettingsMap": {},
     "title": ""
    }
   },
   "outputs": [],
   "source": [
    "url = 'https://v-dem.net/media/datasets/V-Dem-CY-Core_csv_v13.zip'\n",
    "r = requests.get(url)\n",
    "z = zipfile.ZipFile(io.BytesIO(r.content))\n",
    "z.extractall()"
   ]
  },
  {
   "cell_type": "markdown",
   "metadata": {
    "application/vnd.databricks.v1+cell": {
     "cellMetadata": {
      "byteLimit": 2048000,
      "rowLimit": 10000
     },
     "inputWidgets": {},
     "nuid": "5ed78295-fa95-43a7-b312-5efdd5f4cca4",
     "showTitle": false,
     "tableResultSettingsMap": {},
     "title": ""
    }
   },
   "source": [
    "After you've run this code successfully once, the files you need will be in your working directory and you should save time by switching these cells from \"code\" to \"raw\" so that they don't run again if you restart the kernel.\n",
    "\n",
    "You will only need two of the files you've downloaded. Load the 'V-Dem-CY-Core-v13.csv' file as `vdem` and the 'ESGData.csv' file as `wb`. "
   ]
  },
  {
   "cell_type": "code",
   "execution_count": 0,
   "metadata": {
    "application/vnd.databricks.v1+cell": {
     "cellMetadata": {
      "byteLimit": 2048000,
      "rowLimit": 10000
     },
     "inputWidgets": {},
     "nuid": "7c6bb466-ea3d-4abd-a0bc-c3cdfe664b5d",
     "showTitle": false,
     "tableResultSettingsMap": {},
     "title": ""
    }
   },
   "outputs": [],
   "source": [
    "vdem = pd.read_csv('V-Dem-CY-Core-v13.csv')\n",
    "wb = pd.read_csv('ESGCSV.csv')"
   ]
  },
  {
   "cell_type": "code",
   "execution_count": 0,
   "metadata": {
    "application/vnd.databricks.v1+cell": {
     "cellMetadata": {
      "byteLimit": 2048000,
      "rowLimit": 10000
     },
     "inputWidgets": {},
     "nuid": "4acdaa67-fe7e-486a-bf4f-8f25ab999903",
     "showTitle": false,
     "tableResultSettingsMap": {},
     "title": ""
    }
   },
   "outputs": [],
   "source": [
    "vdem"
   ]
  },
  {
   "cell_type": "code",
   "execution_count": 0,
   "metadata": {
    "application/vnd.databricks.v1+cell": {
     "cellMetadata": {
      "byteLimit": 2048000,
      "rowLimit": 10000
     },
     "inputWidgets": {},
     "nuid": "54bf210a-26e2-49b3-bb80-245bd96afca8",
     "showTitle": false,
     "tableResultSettingsMap": {},
     "title": ""
    }
   },
   "outputs": [],
   "source": [
    "wb"
   ]
  },
  {
   "cell_type": "markdown",
   "metadata": {
    "application/vnd.databricks.v1+cell": {
     "cellMetadata": {
      "byteLimit": 2048000,
      "rowLimit": 10000
     },
     "inputWidgets": {},
     "nuid": "25802c45-9f34-47f7-8522-04c5117f8d42",
     "showTitle": false,
     "tableResultSettingsMap": {},
     "title": ""
    }
   },
   "source": [
    "## Problem 1\n",
    "First, let's focus on the `vdem` data ('V-Dem-CY-Core-v13.csv'). Use `pandas` methods to perform the following tasks:\n",
    "\n",
    "### Part a\n",
    "Keep only the 'country_text_id', 'country_name','year', 'v2x_polyarchy', and 'v2peedueq' columns. [1 point]"
   ]
  },
  {
   "cell_type": "code",
   "execution_count": 0,
   "metadata": {
    "application/vnd.databricks.v1+cell": {
     "cellMetadata": {
      "byteLimit": 2048000,
      "rowLimit": 10000
     },
     "inputWidgets": {},
     "nuid": "0366c9fa-6139-4acf-8aec-6fe6b69caba0",
     "showTitle": false,
     "tableResultSettingsMap": {},
     "title": ""
    }
   },
   "outputs": [],
   "source": [
    "vdem = vdem[['country_text_id', 'country_name','year', 'v2x_polyarchy','v2peedueq']]"
   ]
  },
  {
   "cell_type": "markdown",
   "metadata": {
    "application/vnd.databricks.v1+cell": {
     "cellMetadata": {
      "byteLimit": 2048000,
      "rowLimit": 10000
     },
     "inputWidgets": {},
     "nuid": "ebb2cb81-11df-45fa-92f8-096190d4e53c",
     "showTitle": false,
     "tableResultSettingsMap": {},
     "title": ""
    }
   },
   "source": [
    "### Part b\n",
    "Use the `.query()` method to keep only the rows in which year is greater than or equal to 1960 and less than or equal to 2021. [1 point]"
   ]
  },
  {
   "cell_type": "code",
   "execution_count": 0,
   "metadata": {
    "application/vnd.databricks.v1+cell": {
     "cellMetadata": {
      "byteLimit": 2048000,
      "rowLimit": 10000
     },
     "inputWidgets": {},
     "nuid": "02431c37-6c07-4888-b813-f9c4cb9ea845",
     "showTitle": false,
     "tableResultSettingsMap": {},
     "title": ""
    }
   },
   "outputs": [],
   "source": [
    "vdem = vdem.query('year >= 1960 and year <= 2021')"
   ]
  },
  {
   "cell_type": "markdown",
   "metadata": {
    "application/vnd.databricks.v1+cell": {
     "cellMetadata": {
      "byteLimit": 2048000,
      "rowLimit": 10000
     },
     "inputWidgets": {},
     "nuid": "d8f266ce-b893-4e21-bb6a-e156d9d6d8fc",
     "showTitle": false,
     "tableResultSettingsMap": {},
     "title": ""
    }
   },
   "source": [
    "### Part c\n",
    "Rename 'country_text_id' to 'country_code', 'country_name' to 'country_name_vdem', 'v2x_polyarchy' to 'democracy', and 'v2peedueq' to 'educational_equality'. [1 point]"
   ]
  },
  {
   "cell_type": "code",
   "execution_count": 0,
   "metadata": {
    "application/vnd.databricks.v1+cell": {
     "cellMetadata": {
      "byteLimit": 2048000,
      "rowLimit": 10000
     },
     "inputWidgets": {},
     "nuid": "ae4c8304-5c87-4dc0-b7d3-8a491f542623",
     "showTitle": false,
     "tableResultSettingsMap": {},
     "title": ""
    }
   },
   "outputs": [],
   "source": [
    "vdem.rename(columns={'country_text_id': 'country_code',\n",
    "                      'country_name' : 'country_name_vdem',\n",
    "                      'v2x_polyarchy':'democracy',\n",
    "                       'v2peedueq' : 'educational_equality'\n",
    "                       },\n",
    "            inplace=True)"
   ]
  },
  {
   "cell_type": "markdown",
   "metadata": {
    "application/vnd.databricks.v1+cell": {
     "cellMetadata": {
      "byteLimit": 2048000,
      "rowLimit": 10000
     },
     "inputWidgets": {},
     "nuid": "7468e1cb-ac1e-4772-be47-2959e1f62a09",
     "showTitle": false,
     "tableResultSettingsMap": {},
     "title": ""
    }
   },
   "source": [
    "### Part d\n",
    "Sort the rows by 'country_code' and 'year' in ascending order. [1 point]"
   ]
  },
  {
   "cell_type": "code",
   "execution_count": 0,
   "metadata": {
    "application/vnd.databricks.v1+cell": {
     "cellMetadata": {
      "byteLimit": 2048000,
      "rowLimit": 10000
     },
     "inputWidgets": {},
     "nuid": "b7bbaf67-53b3-4b1d-94f8-270d11150c8b",
     "showTitle": false,
     "tableResultSettingsMap": {},
     "title": ""
    }
   },
   "outputs": [],
   "source": [
    "vdem.sort_values(['country_code','year'],inplace=True)"
   ]
  },
  {
   "cell_type": "markdown",
   "metadata": {
    "application/vnd.databricks.v1+cell": {
     "cellMetadata": {
      "byteLimit": 2048000,
      "rowLimit": 10000
     },
     "inputWidgets": {},
     "nuid": "58ae3fcb-8093-4421-9cbf-e2f3101c4365",
     "showTitle": false,
     "tableResultSettingsMap": {},
     "title": ""
    }
   },
   "source": [
    "## Problem 2\n",
    "Next focus on the World Bank `wb` dataset 'ESGData.csv'. Use `pandas` methods to perform the following tasks:\n",
    "\n",
    "### Part a\n",
    "Keep only the columns named 'Country Code', 'Country Name', and 'Indicator Code', or begin with '19' or '20'. (Don't type in all the years individually. Instead, use code that finds all columns that begin '19' or '20'.) [1 point]"
   ]
  },
  {
   "cell_type": "code",
   "execution_count": 0,
   "metadata": {
    "application/vnd.databricks.v1+cell": {
     "cellMetadata": {
      "byteLimit": 2048000,
      "rowLimit": 10000
     },
     "inputWidgets": {},
     "nuid": "133c1940-1d76-42f2-bb6a-80ba70e57703",
     "showTitle": false,
     "tableResultSettingsMap": {},
     "title": ""
    }
   },
   "outputs": [],
   "source": [
    "wb = wb[[col for col in wb.columns if col in ['Country Code', 'Country Name', 'Indicator Code'] or '19' in col or '20' in col]]"
   ]
  },
  {
   "cell_type": "markdown",
   "metadata": {
    "application/vnd.databricks.v1+cell": {
     "cellMetadata": {
      "byteLimit": 2048000,
      "rowLimit": 10000
     },
     "inputWidgets": {},
     "nuid": "e3de69f6-3563-452b-8c28-bcd04ab00f23",
     "showTitle": false,
     "tableResultSettingsMap": {},
     "title": ""
    }
   },
   "source": [
    "### Part b\n",
    "Rename 'Country Code' to'country_code', 'Country Name' to 'country_name_wb', and 'Indicator Code' to 'feature'. [1 point]"
   ]
  },
  {
   "cell_type": "code",
   "execution_count": 0,
   "metadata": {
    "application/vnd.databricks.v1+cell": {
     "cellMetadata": {
      "byteLimit": 2048000,
      "rowLimit": 10000
     },
     "inputWidgets": {},
     "nuid": "6f4c8e0b-c990-485e-b84f-0646830d866f",
     "showTitle": false,
     "tableResultSettingsMap": {},
     "title": ""
    }
   },
   "outputs": [],
   "source": [
    "wb.rename(columns=\n",
    "            {'Country Code': 'country_code',\n",
    "              'Country Name': 'country_name_wb',\n",
    "              'Indicator Code': 'feature'}\n",
    "             ,\n",
    "             inplace=True\n",
    "             )"
   ]
  },
  {
   "cell_type": "code",
   "execution_count": 0,
   "metadata": {
    "application/vnd.databricks.v1+cell": {
     "cellMetadata": {
      "byteLimit": 2048000,
      "rowLimit": 10000
     },
     "inputWidgets": {},
     "nuid": "79296c05-dfe4-4a99-8223-a2d7db53cee7",
     "showTitle": false,
     "tableResultSettingsMap": {},
     "title": ""
    }
   },
   "outputs": [],
   "source": [
    "wb"
   ]
  },
  {
   "cell_type": "markdown",
   "metadata": {
    "application/vnd.databricks.v1+cell": {
     "cellMetadata": {
      "byteLimit": 2048000,
      "rowLimit": 10000
     },
     "inputWidgets": {},
     "nuid": "803a0379-81b4-4808-bb58-2e6a06a5c314",
     "showTitle": false,
     "tableResultSettingsMap": {},
     "title": ""
    }
   },
   "source": [
    "### Part c\n",
    "Use the `.query()` method to remove the rows in which 'country_name_wb' is equal to one of the entries in the folowing `noncountries` list: [1 point]"
   ]
  },
  {
   "cell_type": "code",
   "execution_count": 0,
   "metadata": {
    "application/vnd.databricks.v1+cell": {
     "cellMetadata": {
      "byteLimit": 2048000,
      "rowLimit": 10000
     },
     "inputWidgets": {},
     "nuid": "32e0668f-01df-4961-af79-f1a7d5c920a4",
     "showTitle": false,
     "tableResultSettingsMap": {},
     "title": ""
    }
   },
   "outputs": [],
   "source": [
    "noncountries = [\"Arab World\", \"Central Europe and the Baltics\",\n",
    "                \"Caribbean small states\",\n",
    "                \"East Asia & Pacific (excluding high income)\",\n",
    "                \"Early-demographic dividend\",\"East Asia & Pacific\",\n",
    "                \"Europe & Central Asia (excluding high income)\",\n",
    "                \"Europe & Central Asia\", \"Euro area\",\n",
    "                \"European Union\",\"Fragile and conflict affected situations\",\n",
    "                \"High income\",\n",
    "                \"Heavily indebted poor countries (HIPC)\",\"IBRD only\",\n",
    "                \"IDA & IBRD total\",\n",
    "                \"IDA total\",\"IDA blend\",\"IDA only\",\n",
    "                \"Latin America & Caribbean (excluding high income)\",\n",
    "                \"Latin America & Caribbean\",\n",
    "                \"Least developed countries: UN classification\",\n",
    "                \"Low income\",\"Lower middle income\",\"Low & middle income\",\n",
    "                \"Late-demographic dividend\",\"Middle East & North Africa\",\n",
    "                \"Middle income\",\n",
    "                \"Middle East & North Africa (excluding high income)\",\n",
    "                \"North America\",\"OECD members\",\n",
    "                \"Other small states\",\"Pre-demographic dividend\",\n",
    "                \"Pacific island small states\",\n",
    "                \"Post-demographic dividend\",\n",
    "                \"Sub-Saharan Africa (excluding high income)\",\n",
    "                \"Sub-Saharan Africa\",\n",
    "                \"Small states\",\"East Asia & Pacific (IDA & IBRD)\",\n",
    "                \"Europe & Central Asia (IDA & IBRD)\",\n",
    "                \"Latin America & Caribbean (IDA & IBRD)\",\n",
    "                \"Middle East & North Africa (IDA & IBRD)\",\"South Asia\",\n",
    "                \"South Asia (IDA & IBRD)\",\n",
    "                \"Sub-Saharan Africa (IDA & IBRD)\",\n",
    "                \"Upper middle income\", \"World\"]"
   ]
  },
  {
   "cell_type": "code",
   "execution_count": 0,
   "metadata": {
    "application/vnd.databricks.v1+cell": {
     "cellMetadata": {
      "byteLimit": 2048000,
      "rowLimit": 10000
     },
     "inputWidgets": {},
     "nuid": "d9894897-001b-4d7f-89e8-1305cb59bee3",
     "showTitle": false,
     "tableResultSettingsMap": {},
     "title": ""
    }
   },
   "outputs": [],
   "source": [
    "wb.query('country_name_wb not in @noncountries',inplace=True)"
   ]
  },
  {
   "cell_type": "markdown",
   "metadata": {
    "application/vnd.databricks.v1+cell": {
     "cellMetadata": {
      "byteLimit": 2048000,
      "rowLimit": 10000
     },
     "inputWidgets": {},
     "nuid": "0cf3db3c-2fe7-494e-84c6-392512f18d7f",
     "showTitle": false,
     "tableResultSettingsMap": {},
     "title": ""
    }
   },
   "source": [
    "### Part d\n",
    "The features in this dataset are given strange and incomprehensible codes such as 'EG.CFT.ACCS.ZS'. Use the `replace_map` dictionary, defined below, to recode all of these values with more descriptive names for each feature. [1 point]"
   ]
  },
  {
   "cell_type": "code",
   "execution_count": 0,
   "metadata": {
    "application/vnd.databricks.v1+cell": {
     "cellMetadata": {
      "byteLimit": 2048000,
      "rowLimit": 10000
     },
     "inputWidgets": {},
     "nuid": "5df5c69d-accb-46ae-bc4d-f3dce91d63c2",
     "showTitle": false,
     "tableResultSettingsMap": {},
     "title": ""
    }
   },
   "outputs": [],
   "source": [
    "replace_map = {\n",
    "  \"AG.LND.AGRI.ZS\": \"agricultural_land\",\n",
    "  \"AG.LND.FRST.ZS\": \"forest_area\",\n",
    "  \"AG.PRD.FOOD.XD\": \"food_production_index\",\n",
    "  \"CC.EST\": \"control_of_corruption\",\n",
    "  \"EG.CFT.ACCS.ZS\": \"access_to_clean_fuels_and_technologies_for_cooking\",\n",
    "  \"EG.EGY.PRIM.PP.KD\": \"energy_intensity_level_of_primary_energy\",\n",
    "  \"EG.ELC.ACCS.ZS\": \"access_to_electricity\",\n",
    "  \"EG.ELC.COAL.ZS\": \"electricity_production_from_coal_sources\",\n",
    "  \"EG.ELC.RNEW.ZS\": \"renewable_electricity_output\",\n",
    "  \"EG.FEC.RNEW.ZS\": \"renewable_energy_consumption\",\n",
    "  \"EG.IMP.CONS.ZS\": \"energy_imports\",\n",
    "  \"EG.USE.COMM.FO.ZS\": \"fossil_fuel_energy_consumption\",\n",
    "  \"EG.USE.PCAP.KG.OE\": \"energy_use\",\n",
    "  \"EN.ATM.CO2E.PC\": \"co2_emissions\",\n",
    "  \"EN.ATM.METH.PC\": \"methane_emissions\",\n",
    "  \"EN.ATM.NOXE.PC\": \"nitrous_oxide_emissions\",\n",
    "  \"EN.ATM.PM25.MC.M3\": \"pm2_5_air_pollution\",\n",
    "  \"EN.CLC.CDDY.XD\": \"cooling_degree_days\",\n",
    "  \"EN.CLC.GHGR.MT.CE\": \"ghg_net_emissions\",\n",
    "  \"EN.CLC.HEAT.XD\": \"heat_index_35\",\n",
    "  \"EN.CLC.MDAT.ZS\": \"droughts\",\n",
    "  \"EN.CLC.PRCP.XD\": \"maximum_5-day_rainfall\",\n",
    "  \"EN.CLC.SPEI.XD\": \"mean_drought_index\",\n",
    "  \"EN.MAM.THRD.NO\": \"mammal_species\",\n",
    "  \"EN.POP.DNST\": \"population_density\",\n",
    "  \"ER.H2O.FWTL.ZS\": \"annual_freshwater_withdrawals\",\n",
    "  \"ER.PTD.TOTL.ZS\": \"terrestrial_and_marine_protected_areas\",\n",
    "  \"GB.XPD.RSDV.GD.ZS\": \"research_and_development_expenditure\",\n",
    "  \"GE.EST\": \"government_effectiveness\",\n",
    "  \"IC.BUS.EASE.XQ\": \"ease_of_doing_business_rank\",\n",
    "  \"IC.LGL.CRED.XQ\": \"strength_of_legal_rights_index\",\n",
    "  \"IP.JRN.ARTC.SC\": \"scientific_and_technical_journal_articles\",\n",
    "  \"IP.PAT.RESD\": \"patent_applications\",\n",
    "  \"IT.NET.USER.ZS\": \"individuals_using_the_internet\",\n",
    "  \"NV.AGR.TOTL.ZS\": \"agriculture\",\n",
    "  \"NY.ADJ.DFOR.GN.ZS\": \"net_forest_depletion\",\n",
    "  \"NY.ADJ.DRES.GN.ZS\": \"natural_resources_depletion\",\n",
    "  \"NY.GDP.MKTP.KD.ZG\": \"gdp_growth\",\n",
    "  \"PV.EST\": \"political_stability_and_absence_of_violence\",\n",
    "  \"RL.EST\": \"rule_of_law\",\n",
    "  \"RQ.EST\": \"regulatory_quality\",\n",
    "  \"SE.ADT.LITR.ZS\": \"literacy_rate\",\n",
    "  \"SE.ENR.PRSC.FM.ZS\": \"gross_school_enrollment\",\n",
    "  \"SE.PRM.ENRR\": \"primary_school_enrollment\",\n",
    "  \"SE.XPD.TOTL.GB.ZS\": \"government_expenditure_on_education\",\n",
    "  \"SG.GEN.PARL.ZS\": \"proportion_of_seats_held_by_women_in_national_parliaments\",\n",
    "  \"SH.DTH.COMM.ZS\": \"cause_of_death\",\n",
    "  \"SH.DYN.MORT\": \"mortality_rate\",\n",
    "  \"SH.H2O.SMDW.ZS\": \"people_using_safely_managed_drinking_water_services\",\n",
    "  \"SH.MED.BEDS.ZS\": \"hospital_beds\",\n",
    "  \"SH.STA.OWAD.ZS\": \"prevalence_of_overweight\",\n",
    "  \"SH.STA.SMSS.ZS\": \"people_using_safely_managed_sanitation_services\",\n",
    "  \"SI.DST.FRST.20\": \"income_share_held_by_lowest_20pct\",\n",
    "  \"SI.POV.GINI\": \"gini_index\",\n",
    "  \"SI.POV.NAHC\": \"poverty_headcount_ratio_at_national_poverty_lines\",\n",
    "  \"SI.SPR.PCAP.ZG\": \"annualized_average_growth_rate_in_per_capita_real_survey_mean_consumption_or_income\",\n",
    "  \"SL.TLF.0714.ZS\": \"children_in_employment\",\n",
    "  \"SL.TLF.ACTI.ZS\": \"labor_force_participation_rate\",\n",
    "  \"SL.TLF.CACT.FM.ZS\": \"ratio_of_female_to_male_labor_force_participation_rate\",\n",
    "  \"SL.UEM.TOTL.ZS\": \"unemployment\",\n",
    "  \"SM.POP.NETM\": \"net_migration\",\n",
    "  \"SN.ITK.DEFC.ZS\": \"prevalence_of_undernourishment\",\n",
    "  \"SP.DYN.LE00.IN\": \"life_expectancy_at_birth\",\n",
    "  \"SP.DYN.TFRT.IN\": \"fertility_rate\",\n",
    "  \"SP.POP.65UP.TO.ZS\": \"population_ages_65_and_above\",\n",
    "  \"SP.UWT.TFRT\": \"unmet_need_for_contraception\",\n",
    "  \"VA.EST\": \"voice_and_accountability\",\n",
    "  \"EN.CLC.CSTP.ZS\": \"coastal_protection\",\n",
    "  \"SD.ESR.PERF.XQ\": \"economic_and_social_rights_performance_score\",\n",
    "  \"EN.CLC.HDDY.XD\": \"heating_degree_days\",\n",
    "  \"EN.LND.LTMP.DC\": \"land_surface_temperature\",\n",
    "  \"ER.H2O.FWST.ZS\": \"freshwater_withdrawal\",\n",
    "  \"EN.H2O.BDYS.ZS\": \"water_quality\",\n",
    "  \"AG.LND.FRLS.HA\": \"tree_cover_loss\",\n",
    "}\n"
   ]
  },
  {
   "cell_type": "code",
   "execution_count": 0,
   "metadata": {
    "application/vnd.databricks.v1+cell": {
     "cellMetadata": {
      "byteLimit": 2048000,
      "rowLimit": 10000
     },
     "inputWidgets": {},
     "nuid": "fb94caf2-d6aa-4cd6-9da2-f768a00f04c7",
     "showTitle": false,
     "tableResultSettingsMap": {},
     "title": ""
    }
   },
   "outputs": [],
   "source": [
    "wb.replace(to_replace=replace_map,inplace=True)\n",
    "# wb.rename(columns={\"Country Name\": \"country_name_wb\"},inplace=True)"
   ]
  },
  {
   "cell_type": "markdown",
   "metadata": {
    "application/vnd.databricks.v1+cell": {
     "cellMetadata": {
      "byteLimit": 2048000,
      "rowLimit": 10000
     },
     "inputWidgets": {},
     "nuid": "f121015e-07e9-4f4a-b94e-297f8d8af1e3",
     "showTitle": false,
     "tableResultSettingsMap": {},
     "title": ""
    }
   },
   "source": [
    "## Problem 3\n",
    "The `wb` dataset is strangely organized. The features are stored in the rows, when typically we would want these features to be columns. Also, years are stored in columns, when typically we would want years to be represented by different rows. We can repair this structure by reshaping the data. \n",
    "\n",
    "### Part a\n",
    "First, reshape the data to turn the columns that refer to years into rows. [1 point]"
   ]
  },
  {
   "cell_type": "code",
   "execution_count": 0,
   "metadata": {
    "application/vnd.databricks.v1+cell": {
     "cellMetadata": {
      "byteLimit": 2048000,
      "rowLimit": 10000
     },
     "inputWidgets": {},
     "nuid": "000f9fc4-bff2-4ba1-856d-60e6db9d4189",
     "showTitle": false,
     "tableResultSettingsMap": {},
     "title": ""
    }
   },
   "outputs": [],
   "source": [
    "wb = wb.melt(id_vars=['country_name_wb','feature','country_code'],var_name='year',value_name='value',value_vars=wb.columns[4:])"
   ]
  },
  {
   "cell_type": "markdown",
   "metadata": {
    "application/vnd.databricks.v1+cell": {
     "cellMetadata": {
      "byteLimit": 2048000,
      "rowLimit": 10000
     },
     "inputWidgets": {},
     "nuid": "a0ba228d-5c26-4992-9d46-60af1d708023",
     "showTitle": false,
     "tableResultSettingsMap": {},
     "title": ""
    }
   },
   "source": [
    "### Part b\n",
    "Then rename `variable` to `year`, and reshape the data again by turning the rows that refer to features into columns. [1 point]"
   ]
  },
  {
   "cell_type": "code",
   "execution_count": 0,
   "metadata": {
    "application/vnd.databricks.v1+cell": {
     "cellMetadata": {
      "byteLimit": 2048000,
      "rowLimit": 10000
     },
     "inputWidgets": {},
     "nuid": "94aea213-aa26-4821-9bcd-7457f6a583d6",
     "showTitle": false,
     "tableResultSettingsMap": {},
     "title": ""
    }
   },
   "outputs": [],
   "source": [
    "wb = wb.pivot(index=['country_name_wb','year','country_code'],columns='feature',values='value').reset_index()"
   ]
  },
  {
   "cell_type": "markdown",
   "metadata": {
    "application/vnd.databricks.v1+cell": {
     "cellMetadata": {
      "byteLimit": 2048000,
      "rowLimit": 10000
     },
     "inputWidgets": {},
     "nuid": "165c181b-4818-455c-96d0-12a8fec460a1",
     "showTitle": false,
     "tableResultSettingsMap": {},
     "title": ""
    }
   },
   "source": [
    "### Part c\n",
    "After these reshapes, the year column in the `wb` data frame is stored as a string. Convert this column to an integer data type. [1 point] "
   ]
  },
  {
   "cell_type": "code",
   "execution_count": 0,
   "metadata": {
    "application/vnd.databricks.v1+cell": {
     "cellMetadata": {
      "byteLimit": 2048000,
      "rowLimit": 10000
     },
     "inputWidgets": {},
     "nuid": "ceccf533-2b91-47c1-9d4f-e5ef72369dfd",
     "showTitle": false,
     "tableResultSettingsMap": {},
     "title": ""
    }
   },
   "outputs": [],
   "source": [
    "wb.year=wb.year.astype('int')"
   ]
  },
  {
   "cell_type": "markdown",
   "metadata": {
    "application/vnd.databricks.v1+cell": {
     "cellMetadata": {
      "byteLimit": 2048000,
      "rowLimit": 10000
     },
     "inputWidgets": {},
     "nuid": "41b1e31e-4386-40e2-be51-b032e4d30cc7",
     "showTitle": false,
     "tableResultSettingsMap": {},
     "title": ""
    }
   },
   "source": [
    "## Problem 4\n",
    "Next we will merge the `wb` data frame with the `vdem` data frame, matching on the 'country_code' and 'year' columns. \n",
    "\n",
    "### Part a\n",
    "First, write a sentence stating whether you expect this merge to be one-to-one, many-to-one, one-to-many, or many-to-many, and describe your rationale. [1 point]"
   ]
  },
  {
   "cell_type": "markdown",
   "metadata": {
    "application/vnd.databricks.v1+cell": {
     "cellMetadata": {
      "byteLimit": 2048000,
      "rowLimit": 10000
     },
     "inputWidgets": {},
     "nuid": "0facf24d-fbc4-452d-a0dc-99484425c7ef",
     "showTitle": false,
     "tableResultSettingsMap": {},
     "title": ""
    }
   },
   "source": [
    "<b>4a answer</b>\n",
    "Expecting 1-1 as both dataframes appear by be primary key'd on country and year"
   ]
  },
  {
   "cell_type": "markdown",
   "metadata": {
    "application/vnd.databricks.v1+cell": {
     "cellMetadata": {
      "byteLimit": 2048000,
      "rowLimit": 10000
     },
     "inputWidgets": {},
     "nuid": "90a9650c-e818-4ced-a34b-8cac3effb541",
     "showTitle": false,
     "tableResultSettingsMap": {},
     "title": ""
    }
   },
   "source": []
  },
  {
   "cell_type": "markdown",
   "metadata": {
    "application/vnd.databricks.v1+cell": {
     "cellMetadata": {
      "byteLimit": 2048000,
      "rowLimit": 10000
     },
     "inputWidgets": {},
     "nuid": "b48e0243-7377-44aa-9618-690079d1d5b6",
     "showTitle": false,
     "tableResultSettingsMap": {},
     "title": ""
    }
   },
   "source": [
    "### Part b\n",
    "Next, merge the two datasets together in a way that checks whether your expectation is met, and also allows you to see the rows that failed to match. [2 points]"
   ]
  },
  {
   "cell_type": "code",
   "execution_count": 0,
   "metadata": {
    "application/vnd.databricks.v1+cell": {
     "cellMetadata": {
      "byteLimit": 2048000,
      "rowLimit": 10000
     },
     "collapsed": true,
     "inputWidgets": {},
     "nuid": "f84a4e48-434d-4922-aeaa-f10ff9bd7870",
     "showTitle": false,
     "tableResultSettingsMap": {},
     "title": ""
    }
   },
   "outputs": [],
   "source": [
    "vdem"
   ]
  },
  {
   "cell_type": "code",
   "execution_count": 0,
   "metadata": {
    "application/vnd.databricks.v1+cell": {
     "cellMetadata": {
      "byteLimit": 2048000,
      "rowLimit": 10000
     },
     "inputWidgets": {},
     "nuid": "a55adf2b-fc47-4bb5-a9d5-bfc0162c09ce",
     "showTitle": false,
     "tableResultSettingsMap": {},
     "title": ""
    }
   },
   "outputs": [],
   "source": [
    "joined_table = pd.merge(wb,vdem, left_on=['country_name_wb','year'], right_on=['country_name_vdem','year'], how='outer', indicator='matched')\n",
    "joined_table.groupby('matched').size()"
   ]
  },
  {
   "cell_type": "markdown",
   "metadata": {
    "application/vnd.databricks.v1+cell": {
     "cellMetadata": {
      "byteLimit": 2048000,
      "rowLimit": 10000
     },
     "inputWidgets": {},
     "nuid": "bac54d2a-7603-4c02-a47e-cabde9aaf5c8",
     "showTitle": false,
     "tableResultSettingsMap": {},
     "title": ""
    }
   },
   "source": [
    "### Part c\n",
    "After this merge, use the `.value_counts()` method to see the total number of observations that were found in both datasets, the number found only in the left dataset, and the number found only in the right dataset. (If you entered the `wb` data frame into the merge function first, then \"left_only\" refers to the rows found in the World Bank but not V-Dem, and \"right_only\" refers to the rows found in V-Dem but not the World Bank.) There should be more than 9000 rows that matched, but more than 2000 that failed to match.\n",
    "\n",
    "Then conduct two data aggregations to help us investigate why these observations did not match:\n",
    "\n",
    "* First use `.query()` to keep only the observations that were present in `wb` but not `vdem`. (These are the 'left_only' observations if you typed the World Bank data into the merge function first.) Use `.groupby()` to aggregate the data by both 'country_code' and 'country_name_wb'. Then save the minimum and maximum values of 'year' for each country.\n",
    "\n",
    "* Then use `.query()` to keep only the observations that were present in `vdem` data but not `wb`. Use `.groupby()` to aggregate the data by both 'country_code' and 'country_name_vdem'. Then save the minimum and maximum values of 'year' for each country. [2 points]"
   ]
  },
  {
   "cell_type": "code",
   "execution_count": 0,
   "metadata": {
    "application/vnd.databricks.v1+cell": {
     "cellMetadata": {
      "byteLimit": 2048000,
      "rowLimit": 10000
     },
     "inputWidgets": {},
     "nuid": "815a227e-9a55-406c-8cf9-0a6d31885845",
     "showTitle": false,
     "tableResultSettingsMap": {},
     "title": ""
    }
   },
   "outputs": [],
   "source": [
    "# joined_table = pd.DataFrame()  Define joined_table before using it\n",
    "joined_table.query('matched==\"left_only\"').groupby(['country_code_x','country_name_wb']).agg({'year':['max','min']})\n",
    "\n"
   ]
  },
  {
   "cell_type": "code",
   "execution_count": 0,
   "metadata": {
    "application/vnd.databricks.v1+cell": {
     "cellMetadata": {
      "byteLimit": 2048000,
      "rowLimit": 10000
     },
     "inputWidgets": {},
     "nuid": "86225003-74ca-4ed7-8ef2-ba39a15adb57",
     "showTitle": false,
     "tableResultSettingsMap": {},
     "title": ""
    }
   },
   "outputs": [],
   "source": [
    "joined_table.query('matched==\"right_only\"').groupby(['country_code_y','country_name_vdem']).agg({'year':['max','min']})"
   ]
  },
  {
   "cell_type": "markdown",
   "metadata": {
    "application/vnd.databricks.v1+cell": {
     "cellMetadata": {
      "byteLimit": 2048000,
      "rowLimit": 10000
     },
     "inputWidgets": {},
     "nuid": "39f3585f-9abd-4d35-83fa-e3b80f1ff97a",
     "showTitle": false,
     "tableResultSettingsMap": {},
     "title": ""
    }
   },
   "source": [
    "### Part d\n",
    "Here's where a deep understanding of the data becomes very important. There are two reasons why an observation may fail to match in a merge. One reason is a difference in spelling. Suppose that South Korea (which is also known as the Republic of Korea) is coded as SKO in the World Bank data and ROK in V-Dem. In this case, we should recode one or the other of SKO and ROK so that they match, otherwise we will lose the data on South Korea. But the second reason why observations might fail to match is due to differences in coverage in the data collection strategy: it is possible that a country wasn't included in one data's coverage, or that certain years for that country were not included. For differences in coverage, there's no way to manipulate the data to match, so we are out of luck and we have to either delete these observations or proceed with missing data from one of the data sources.\n",
    "\n",
    "Take a close look at the two data aggregation tables you generated in part (j), and answer the following questions:\n",
    "\n",
    "* Do you see any countries that are present in both the unmatched World Bank rows and the unmatched V-Dem rows, but with different spellings?\n",
    "\n",
    "* Do some digging on Wikipedia and other sources on the Internet. What do you think is the primary reason why some countries are present in the V-Dem data but not the World Bank? (You don't need to describe the reasoning for every country. Just dig until you see a general pattern and describe it here.)\n",
    "\n",
    "* Do some more digging on Wikipedia and other sources on the Internet. What do you think is the primary reason why some countries are present in the World Bank data but not V-Dem? (You don't need to describe the reasoning for every country. Just dig until you see a general pattern and describe it here.) [1 point]"
   ]
  },
  {
   "cell_type": "markdown",
   "metadata": {
    "application/vnd.databricks.v1+cell": {
     "cellMetadata": {},
     "inputWidgets": {},
     "nuid": "f366073a-3e83-418e-9dca-d2434fbeb1ea",
     "showTitle": false,
     "tableResultSettingsMap": {},
     "title": ""
    }
   },
   "source": [
    "### 4d answer\n",
    "(i) Yes, \"Yemen, Rep.\" vs. 'South Yemen'\n",
    "\n",
    "(ii) Existenital political conflicts over name recognition and legitimacy (Palestine, Somaliland, Kosovo, GDR, HK, Taiwan,  etc,)\n",
    "Also the Presence of the, dem, rep, or state(s) in the name \n",
    "\n",
    "(III) Presence of the, dem, rep, or state(s) in the name. In general fewer political issues than above, here they use more proper, formal, orthodox, well-known, and correct names (Tuyrkiye) as opposed to the above, who are not and are sympathizers with a bunch of uppity rebels (in my view, also mostly just kidding) \n",
    "\n"
   ]
  },
  {
   "cell_type": "code",
   "execution_count": 0,
   "metadata": {
    "application/vnd.databricks.v1+cell": {
     "cellMetadata": {
      "byteLimit": 2048000,
      "rowLimit": 10000
     },
     "inputWidgets": {},
     "nuid": "b979aa1b-4c74-46a4-b9db-340e2ce29b68",
     "showTitle": false,
     "tableResultSettingsMap": {},
     "title": ""
    }
   },
   "outputs": [],
   "source": [
    "right_conly_countries = pd.merge(\n",
    "    joined_table[['country_name_wb','matched']].query('matched==\"left_only\"').drop_duplicates(),\n",
    "    joined_table[['country_name_vdem','matched']].query('matched==\"right_only\"').drop_duplicates(), \n",
    "    left_on=['country_name_wb'], \n",
    "    right_on=['country_name_vdem'],\n",
    "    how='outer', \n",
    "    indicator='matched2'\n",
    ")\n",
    "display(right_conly_countries[right_conly_countries['matched2']=='right_only'][['country_name_vdem','matched2']])"
   ]
  },
  {
   "cell_type": "code",
   "execution_count": 0,
   "metadata": {
    "application/vnd.databricks.v1+cell": {
     "cellMetadata": {
      "byteLimit": 2048000,
      "rowLimit": 10000
     },
     "inputWidgets": {},
     "nuid": "afa9897d-88cf-4fde-9c9b-e0c639094bf8",
     "showTitle": false,
     "tableResultSettingsMap": {},
     "title": ""
    }
   },
   "outputs": [],
   "source": [
    "left_conly_countries = pd.merge(\n",
    "    joined_table[['country_name_wb','matched']].query('matched==\"left_only\"').drop_duplicates(),\n",
    "    joined_table[['country_name_vdem','matched'] .query('matched==\"right_only\"').drop_duplicates(), \n",
    "    left_on=['country_name_wb'], \n",
    "    right_on=['country_name_vdem'],\n",
    "    how='outer', \n",
    "    indicator='matched2'\n",
    ")\n",
    "display(left_conly_countries[left_conly_countries['matched2']=='left_only'][['country_name_wb','matched2']])"
   ]
  },
  {
   "cell_type": "markdown",
   "metadata": {
    "application/vnd.databricks.v1+cell": {
     "cellMetadata": {
      "byteLimit": 2048000,
      "rowLimit": 10000
     },
     "inputWidgets": {},
     "nuid": "36e6ff97-38a2-4e35-a336-6d060934a8d5",
     "showTitle": false,
     "tableResultSettingsMap": {},
     "title": ""
    }
   },
   "source": [
    "### Part e\n",
    "Once you are convinced that all of the unmatched observations are due to differences in the coverage of the data collection strategies of the World Bank and V-Dem, repeat the merge, dropping all unmatched observations. This time there is no need to validate the type of merge, and no need to define a variable to indicate matching. [1 point]"
   ]
  },
  {
   "cell_type": "code",
   "execution_count": 0,
   "metadata": {
    "application/vnd.databricks.v1+cell": {
     "cellMetadata": {
      "byteLimit": 2048000,
      "rowLimit": 10000
     },
     "inputWidgets": {},
     "nuid": "f3c48fa9-0e1f-40c9-bb24-b23504cfadd4",
     "showTitle": false,
     "tableResultSettingsMap": {},
     "title": ""
    }
   },
   "outputs": [],
   "source": [
    "joined_table = pd.merge(wb,vdem, left_on=['country_name_wb','year'], right_on=['country_name_vdem','year'], how='inner')\n",
    "#joined_table.groupby('matched').size()"
   ]
  },
  {
   "cell_type": "markdown",
   "metadata": {
    "application/vnd.databricks.v1+cell": {
     "cellMetadata": {
      "byteLimit": 2048000,
      "rowLimit": 10000
     },
     "inputWidgets": {},
     "nuid": "c88ba6f3-c8c6-4a90-a450-840b34de88ee",
     "showTitle": false,
     "tableResultSettingsMap": {},
     "title": ""
    }
   },
   "source": [
    "## Problem 5\n",
    "Write code using `pandas` that answers the next two questions:\n",
    "\n",
    "### Part a\n",
    "Of all countries in the data, which countries have the highest and lowest average levels of democratic quality across the 1960-2022 timespan? [1 point]"
   ]
  },
  {
   "cell_type": "code",
   "execution_count": 0,
   "metadata": {
    "application/vnd.databricks.v1+cell": {
     "cellMetadata": {
      "byteLimit": 2048000,
      "rowLimit": 10000
     },
     "inputWidgets": {},
     "nuid": "fe1142cf-5654-409c-ad73-07940a71ea88",
     "showTitle": false,
     "tableResultSettingsMap": {},
     "title": ""
    }
   },
   "outputs": [],
   "source": [
    "joined_table.groupby('country_name_wb').agg({'democracy':'mean'}).sort_values(by='democracy',ascending=False)"
   ]
  },
  {
   "cell_type": "code",
   "execution_count": 0,
   "metadata": {
    "application/vnd.databricks.v1+cell": {
     "cellMetadata": {
      "byteLimit": 2048000,
      "rowLimit": 10000
     },
     "inputWidgets": {},
     "nuid": "807c1af2-c8c0-47e6-ac69-e8ad87d8be27",
     "showTitle": false,
     "tableResultSettingsMap": {},
     "title": ""
    }
   },
   "outputs": [],
   "source": [
    "joined_table.groupby('country_name_wb').agg({'democracy':'mean'}).sort_values(by='democracy',ascending=True)"
   ]
  },
  {
   "cell_type": "markdown",
   "metadata": {
    "application/vnd.databricks.v1+cell": {
     "cellMetadata": {
      "byteLimit": 2048000,
      "rowLimit": 10000
     },
     "inputWidgets": {},
     "nuid": "986223fb-c4c1-41bd-b03b-563a8d5b99c8",
     "showTitle": false,
     "tableResultSettingsMap": {},
     "title": ""
    }
   },
   "source": [
    "### Part b\n",
    "The 'educational_equality' index compiled by V-Dem measures the extent to which \"high quality basic education guaranteed to all, sufficient to enable them to exercise their basic rights as adult citizens.\" They use a Bayesian scaling method to create a score for each country in each year that ranges roughly from -4 to 4, where low values of the scale mean that\n",
    "> Provision of high quality basic education is extremely unequal and at least 75 percent (%) of children receive such low-quality education that undermines their ability to exercise their basic rights as adult citizens.\n",
    "\n",
    "And high values mean that\n",
    "> Basic education is equal in quality and less than five percent (%) of children receive such low-quality education that probably undermines their ability to exercise their basic rights as adult citizens.\n",
    "\n",
    "Use the `pd.cut()` method to create a categorical version of 'educational_equality' with five categories, one from -4 to -2 called \"extremely unequal\", one from -2 to -.5 called \"very unequal\", one from -.5 to .5 called \"somewhat unequal\", one from .5 to 1.5 called \"relatively equal\", and one for values from 1.5 to 4 called \"equal\". (By default, the `pd.cut()` method sets `right=True`, which means the bins include their rightmost edges, so a value of exactly -2 will fall within the \"extremely unequal\" bin. Leave this default in place.)\n",
    "\n",
    "Then aggregate the data to have one row per category of the new categorical version of \"educational_equality\". Collapse the following features to the mean with each category of \"educational_equality\":\n",
    "\n",
    "* 'gini_index': The GINI index measures the amount of economic inequality in a country. The higher the index, the greater the economic disparity between rich and poor.\n",
    "* 'poverty_headcount_ratio_at_national_poverty_lines': a measure of the proportion of the population living in poverty [1 point]\n",
    "  "
   ]
  },
  {
   "cell_type": "code",
   "execution_count": 0,
   "metadata": {
    "application/vnd.databricks.v1+cell": {
     "cellMetadata": {
      "byteLimit": 2048000,
      "rowLimit": 10000
     },
     "inputWidgets": {},
     "nuid": "79773f43-bcf1-4370-8263-8ba2a0510528",
     "showTitle": false,
     "tableResultSettingsMap": {},
     "title": ""
    }
   },
   "outputs": [],
   "source": [
    "joined_table['educational_equality_bucket'] = pd.cut(joined_table['educational_equality'], bins=[-4,-2,-.5,.5,1.5,4], labels=['extremely unequal','very unequal','somewhat unequal','relatively equal','equal'])\n",
    "joined_table.groupby('educational_equality_bucket').agg({'gini_index':'mean','poverty_headcount_ratio_at_national_poverty_lines':'mean'})"
   ]
  },
  {
   "cell_type": "code",
   "execution_count": 0,
   "metadata": {
    "application/vnd.databricks.v1+cell": {
     "cellMetadata": {},
     "inputWidgets": {},
     "nuid": "21107831-42f8-48bc-a55f-ba8fd77c2665",
     "showTitle": false,
     "tableResultSettingsMap": {},
     "title": ""
    }
   },
   "outputs": [],
   "source": [
    " "
   ]
  }
 ],
 "metadata": {
  "application/vnd.databricks.v1+notebook": {
   "computePreferences": null,
   "dashboards": [],
   "environmentMetadata": null,
   "inputWidgetPreferences": null,
   "language": "python",
   "notebookMetadata": {
    "pythonIndentUnit": 4
   },
   "notebookName": "labassignment9_new",
   "widgets": {}
  },
  "kernelspec": {
   "display_name": "Python 3 (ipykernel)",
   "language": "python",
   "name": "python3"
  },
  "language_info": {
   "name": "python"
  }
 },
 "nbformat": 4,
 "nbformat_minor": 0
}